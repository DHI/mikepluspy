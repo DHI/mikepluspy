{
 "cells": [
  {
   "cell_type": "markdown",
   "metadata": {},
   "source": [
    "# Add many \"Section discharge\" result specifications\n",
    "\n",
    "This example shows how to add multiple \"Section discharge\" result specifications for 2D overland models. Basic workflow is:\n",
    "\n",
    "1. Import section coordinates.\n",
    "2. Create result specification for each section.\n",
    "3. Add result specifications to a particular simulation ID."
   ]
  },
  {
   "cell_type": "markdown",
   "metadata": {},
   "source": [
    "#### Setup a dummy database to work with"
   ]
  },
  {
   "cell_type": "code",
   "execution_count": null,
   "metadata": {},
   "outputs": [],
   "source": [
    "from test_utils import create_sqlite_db\n",
    "db_path = \"my_model.sqlite\"\n",
    "create_sqlite_db(db_path)"
   ]
  },
  {
   "cell_type": "markdown",
   "metadata": {},
   "source": [
    "#### Required imports"
   ]
  },
  {
   "cell_type": "code",
   "execution_count": null,
   "metadata": {},
   "outputs": [],
   "source": [
    "from mikeplus import DataTableAccess\n",
    "from mikeplus.fieldTableNames.tableNames import CSTabNames\n",
    "from mikeplus.fieldTableNames.fieldNames import Fields\n",
    "from System import Nullable\n",
    "\n",
    "# Note: GeoPandas and Contextily is not installed by default with MIKE+Py\n",
    "import geopandas as gpd\n",
    "import contextily as cx"
   ]
  },
  {
   "cell_type": "markdown",
   "metadata": {},
   "source": [
    "#### 1. Import section coordinates."
   ]
  },
  {
   "cell_type": "code",
   "execution_count": null,
   "metadata": {},
   "outputs": [],
   "source": [
    "# Read sections from shapefile into GeoDataFrame\n",
    "gdf = gpd.read_file(\"../tests/testdata/notebooks/sections.shp\")\n",
    "gdf"
   ]
  },
  {
   "cell_type": "code",
   "execution_count": null,
   "metadata": {},
   "outputs": [],
   "source": [
    "# Plot the sections\n",
    "ax = gdf.plot(column='name', legend=True)\n",
    "cx.add_basemap(ax, crs=gdf.crs, source=cx.providers.CartoDB.Positron)"
   ]
  },
  {
   "cell_type": "code",
   "execution_count": null,
   "metadata": {},
   "outputs": [],
   "source": [
    "# Create a dictionary with keys as section names and values as a list of xy coordinates of the section\n",
    "sections_xy = {}\n",
    "for name in gdf['name']:\n",
    "    sections_xy[name] = list(gdf[gdf['name'] == name].geometry.values[0].coords)\n",
    "print(\"Section A\", sections_xy['Section A'])"
   ]
  },
  {
   "cell_type": "markdown",
   "metadata": {},
   "source": [
    "#### 2. Create result specification for each section."
   ]
  },
  {
   "cell_type": "code",
   "execution_count": null,
   "metadata": {},
   "outputs": [],
   "source": [
    "# Open the model database\n",
    "dta = DataTableAccess(db_path)\n",
    "dta.open_database()\n",
    "dta"
   ]
  },
  {
   "cell_type": "code",
   "execution_count": null,
   "metadata": {},
   "outputs": [],
   "source": [
    "# Create one result specification per cross section with the appropriate types\n",
    "for name in sections_xy:\n",
    "    dta.insert(CSTabNames.RSTable, muid=name, values={\n",
    "    Fields.RSFields.ModelTypeNo: Nullable[int](3),    # 3 = 2D Overland\n",
    "    Fields.RSFields.ContentTypeNo: Nullable[int](21), # 21 = Section discharge\n",
    "    Fields.RSFields.FormatNo: Nullable[int](2),       # 2 = Dfs0\n",
    "})"
   ]
  },
  {
   "cell_type": "code",
   "execution_count": null,
   "metadata": {},
   "outputs": [],
   "source": [
    "# Insert the secion coordinates into the database. Note that coordinates must be in the same projection as the model.\n",
    "table = dta.datatables[CSTabNames.RSSGeomTable]\n",
    "for name, xy in sections_xy.items():\n",
    "    selection_id = dta.get_muid_where(CSTabNames.RSSTable, f\"{Fields.RSSFields.ResultSpecID}=='{name}'\")[0]\n",
    "    for i, (x, y) in enumerate(xy):\n",
    "        muid = table.CreateUniqueMuid()\n",
    "        row = table.CreateRowData(muid)\n",
    "        table.Insert(row)\n",
    "        dta.set_values(CSTabNames.RSSGeomTable, muid, {Fields.RSSGeomFields.X:x, Fields.RSSGeomFields.Y:y, Fields.SqnFieldBase.Sqn:Nullable[int](i+1), Fields.RSSGeomFields.SelectionID:selection_id})"
   ]
  },
  {
   "cell_type": "markdown",
   "metadata": {},
   "source": [
    "#### 3. Add result specifications to a particular simulation ID."
   ]
  },
  {
   "cell_type": "code",
   "execution_count": null,
   "metadata": {},
   "outputs": [],
   "source": [
    "# Create a new 2D overland simulation\n",
    "simulation_id = \"my_simulation\"\n",
    "\n",
    "row = dta.datatables[CSTabNames.ProjectTable].CreateRowData(simulation_id)\n",
    "dta.datatables[CSTabNames.ProjectTable].Insert(row)\n",
    "\n",
    "dta.set_values(CSTabNames.ProjectTable, simulation_id, {\n",
    "    Fields.ProjectFields.Enable_2DOverland: Nullable[int](1),\n",
    "    Fields.ProjectFields.Enable_HD: Nullable[int](1),\n",
    "})"
   ]
  },
  {
   "cell_type": "code",
   "execution_count": null,
   "metadata": {},
   "outputs": [],
   "source": [
    "# Add all of the new result specifications to the simulation\n",
    "for name in sections_xy:\n",
    "    \n",
    "    output_id = dta.datatables[CSTabNames.ProjectOutputTable].CreateUniqueMuid()\n",
    "    row = dta.datatables[CSTabNames.ProjectOutputTable].CreateRowData(output_id)\n",
    "    dta.datatables[CSTabNames.ProjectOutputTable].Insert(row)\n",
    "\n",
    "    dta.set_values(CSTabNames.ProjectOutputTable, output_id, {\n",
    "        Fields.ProjectOutputFields.OutputID: name,\n",
    "        Fields.ProjectOutputFields.SimulationID: simulation_id,\n",
    "        Fields.ProjectOutputFields.ContentsTypeNo: Nullable[int](21), # 21 = Section discharge\n",
    "        Fields.ProjectOutputFields.FormatNo: Nullable[int](2),        # 2 = Dfs0\n",
    "    })"
   ]
  },
  {
   "cell_type": "code",
   "execution_count": null,
   "metadata": {},
   "outputs": [],
   "source": [
    "# Close the database\n",
    "dta.close_database()"
   ]
  },
  {
   "cell_type": "markdown",
   "metadata": {},
   "source": [
    "#### Clean up"
   ]
  },
  {
   "cell_type": "code",
   "execution_count": null,
   "metadata": {},
   "outputs": [],
   "source": [
    "from pathlib import Path\n",
    "db_path = Path(db_path)\n",
    "for file in [db_path, db_path.with_suffix(\".mupp\")]:\n",
    "    if file.exists():\n",
    "        file.unlink()"
   ]
  }
 ],
 "metadata": {
  "kernelspec": {
   "display_name": "mikeplus",
   "language": "python",
   "name": "python3"
  },
  "language_info": {
   "codemirror_mode": {
    "name": "ipython",
    "version": 3
   },
   "file_extension": ".py",
   "mimetype": "text/x-python",
   "name": "python",
   "nbconvert_exporter": "python",
   "pygments_lexer": "ipython3",
   "version": "3.11.0"
  }
 },
 "nbformat": 4,
 "nbformat_minor": 2
}

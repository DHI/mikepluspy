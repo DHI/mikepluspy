{
 "cells": [
  {
   "cell_type": "code",
   "execution_count": 1,
   "id": "a0c98d73",
   "metadata": {},
   "outputs": [],
   "source": [
    "import os.path\n",
    "\n",
    "\n",
    "def print_field_values(fields, values):\n",
    "    i = 0\n",
    "    if values != None and len(values) > 0:\n",
    "        while i < len(fields):\n",
    "            print(fields[i] + \":\" + str(values[i]))\n",
    "            i += 1\n",
    "    else:\n",
    "        print(\"There is no data of 'link_test'\")"
   ]
  },
  {
   "cell_type": "code",
   "execution_count": 2,
   "id": "42e57de4",
   "metadata": {},
   "outputs": [
    {
     "data": {
      "text/plain": [
       "<DataTableContainer>\n",
       "Db major version: 2024\n",
       "Db minor version: 1.0\n",
       "Active model: CS_MIKE1D\n",
       "Unit system: MU_CS_SI\n",
       "Active simulation: Sirius_1_DEMO"
      ]
     },
     "execution_count": 2,
     "metadata": {},
     "output_type": "execute_result"
    }
   ],
   "source": [
    "\"\"\"To manpulate data in database, e.g. insert, update, delete\"\"\"\n",
    "from mikeplus import DataTableAccess\n",
    "\n",
    "data_access = DataTableAccess(\"../tests/testdata/Db/Sirius/Sirius.sqlite\")\n",
    "data_access.open_database()\n",
    "data_access"
   ]
  },
  {
   "cell_type": "code",
   "execution_count": 3,
   "id": "a0dfb0ce",
   "metadata": {},
   "outputs": [
    {
     "data": {
      "text/plain": [
       "True"
      ]
     },
     "execution_count": 3,
     "metadata": {},
     "output_type": "execute_result"
    }
   ],
   "source": [
    "data_access.is_database_open()"
   ]
  },
  {
   "cell_type": "code",
   "execution_count": null,
   "id": "cfabd6c4",
   "metadata": {},
   "outputs": [],
   "source": [
    "values = {\n",
    "    \"Diameter\": 2.0,\n",
    "    \"Description\": \"insertValues\",\n",
    "    \"geometry\": \"LINESTRING(3 4,10 50,20 25)\",\n",
    "}\n",
    "data_access.insert(\"msm_Link\", \"link_test\", values)\n"
   ]
  },
  {
   "cell_type": "code",
   "execution_count": 5,
   "id": "28644d8f",
   "metadata": {},
   "outputs": [
    {
     "name": "stdout",
     "output_type": "stream",
     "text": [
      "['link_test']\n"
     ]
    }
   ],
   "source": [
    "query = data_access.get_muid_where(\"msm_Link\", \"MUID='link_test'\")\n",
    "print(query)"
   ]
  },
  {
   "cell_type": "code",
   "execution_count": 6,
   "id": "6dff5333",
   "metadata": {},
   "outputs": [
    {
     "name": "stdout",
     "output_type": "stream",
     "text": [
      "Diameter:2.0\n",
      "Description:insertValues\n",
      "geometry:LINESTRING (3 4, 10 50, 20 25)\n"
     ]
    }
   ],
   "source": [
    "fields = [\"Diameter\", \"Description\", \"geometry\"]\n",
    "values = data_access.get_field_values(\"msm_Link\", \"link_test\", fields)\n",
    "print_field_values(fields, values)"
   ]
  },
  {
   "cell_type": "code",
   "execution_count": null,
   "id": "b12d1430",
   "metadata": {},
   "outputs": [
    {
     "name": "stdout",
     "output_type": "stream",
     "text": [
      "Diameter:1.0\n",
      "Description:setValues\n",
      "geometry:LINESTRING (4 5, 20 60, 30 35)\n"
     ]
    }
   ],
   "source": [
    "values = {\n",
    "    \"Diameter\": 1.0,\n",
    "    \"Description\": \"setValues\",\n",
    "    \"geometry\": \"LINESTRING(4 5,20 60,30 35)\",\n",
    "}\n",
    "data_access.set_values(\"msm_Link\", \"link_test\", values)\n",
    "values = data_access.get_field_values(\"msm_Link\", \"link_test\", fields)\n",
    "print_field_values(fields, values)\n"
   ]
  },
  {
   "cell_type": "code",
   "execution_count": 9,
   "id": "fa039e4e",
   "metadata": {},
   "outputs": [
    {
     "name": "stdout",
     "output_type": "stream",
     "text": [
      "geometry:LINESTRING (5 6, 30 70, 40 45)\n"
     ]
    }
   ],
   "source": [
    "\"\"\"Update link geometry\"\"\"\n",
    "data_access.set_value(\n",
    "    \"msm_Link\", \"link_test\", \"geometry\", \"LINESTRING(5 6,30 70,40 45)\"\n",
    ")\n",
    "fields = [\"geometry\"]\n",
    "values = data_access.get_field_values(\"msm_Link\", \"link_test\", fields)\n",
    "print_field_values(fields, values)"
   ]
  },
  {
   "cell_type": "code",
   "execution_count": 10,
   "id": "10797bb4",
   "metadata": {},
   "outputs": [],
   "source": [
    "data_access.delete(\"msm_Link\", \"link_test\")"
   ]
  },
  {
   "cell_type": "code",
   "execution_count": null,
   "id": "f45ece86",
   "metadata": {},
   "outputs": [
    {
     "name": "stdout",
     "output_type": "stream",
     "text": [
      "Diameter:2.0\n",
      "GeomX:6.0\n",
      "GeomY:10.0\n",
      "Diameter:2.0\n",
      "GeomX:8.0\n",
      "GeomY:10.0\n"
     ]
    }
   ],
   "source": [
    "\"\"\"Insert node with geometry, and update node coordinate x and y\"\"\"\n",
    "values = {\"geometry\": \"POINT(6 10)\"}\n",
    "data_access.insert(\"msm_Node\", \"node_test\", values)\n",
    "fields = [\"GeomX\", \"GeomY\", \"geometry\"]\n",
    "values = data_access.get_field_values(\"msm_Node\", \"node_test\", fields)\n",
    "print(\"node has been inserted, current data is:\")\n",
    "print_field_values(fields, values)\n",
    "data_access.set_value(\"msm_Node\", \"node_test\", \"GeomX\", 8.0)\n",
    "values = data_access.get_field_values(\"msm_Node\", \"node_test\", fields)\n",
    "print(\"GeomX has been updated, current data is:\")\n",
    "print_field_values(fields, values)\n",
    "values = {\"geometry\": \"POINT(10 20)\"}\n",
    "data_access.set_value(\"msm_Node\", \"node_test\", \"geometry\", \"POINT(10 20)\")\n",
    "print(\"geometry has been updated, current data is:\")\n",
    "print_field_values(fields, values)\n",
    "data_access.delete(\"msm_Node\", \"node_test\")"
   ]
  },
  {
   "cell_type": "code",
   "execution_count": 12,
   "id": "f31060ad",
   "metadata": {},
   "outputs": [],
   "source": [
    "data_access.close_database()"
   ]
  }
 ],
 "metadata": {
  "kernelspec": {
   "display_name": "Python 3",
   "language": "python",
   "name": "python3"
  },
  "language_info": {
   "codemirror_mode": {
    "name": "ipython",
    "version": 3
   },
   "file_extension": ".py",
   "mimetype": "text/x-python",
   "name": "python",
   "nbconvert_exporter": "python",
   "pygments_lexer": "ipython3",
   "version": "3.12.7"
  }
 },
 "nbformat": 4,
 "nbformat_minor": 5
}

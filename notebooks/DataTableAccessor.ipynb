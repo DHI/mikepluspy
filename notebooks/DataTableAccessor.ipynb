{
 "cells": [
  {
   "cell_type": "code",
   "execution_count": null,
   "id": "a0c98d73",
   "metadata": {},
   "outputs": [],
   "source": [
    "import os.path\n",
    "from mikeplus import DataTableAccess\n",
    "\n",
    "def print_field_values(fields, values):\n",
    "    i = 0\n",
    "    if values != None and len(values) > 0:\n",
    "        while i < len(fields):\n",
    "            print(fields[i] + \":\" + str(values[i]))\n",
    "            i += 1\n",
    "    else:\n",
    "        print(\"There is no data of 'link_test'\")"
   ]
  },
  {
   "cell_type": "code",
   "execution_count": null,
   "id": "42e57de4",
   "metadata": {},
   "outputs": [],
   "source": [
    "'''To manpulate data in database, e.g. insert, update, delete'''\n",
    "data_access = DataTableAccess(\"../tests/testdata/Db/Sirius/Sirius.sqlite\")\n",
    "data_access.open_database()"
   ]
  },
  {
   "cell_type": "code",
   "execution_count": null,
   "id": "a0dfb0ce",
   "metadata": {},
   "outputs": [],
   "source": [
    "data_access.is_database_open()"
   ]
  },
  {
   "cell_type": "code",
   "execution_count": null,
   "id": "cfabd6c4",
   "metadata": {},
   "outputs": [],
   "source": [
    "values = {'Diameter': 2.0, 'Description': 'insertValues'}\n",
    "data_access.insert(\"msm_Link\", \"link_test\", values)"
   ]
  },
  {
   "cell_type": "code",
   "execution_count": null,
   "id": "28644d8f",
   "metadata": {},
   "outputs": [],
   "source": [
    "query = data_access.get_muid_where(\"msm_Link\", \"MUID='link_test'\")\n",
    "print(query)"
   ]
  },
  {
   "cell_type": "code",
   "execution_count": null,
   "id": "6dff5333",
   "metadata": {},
   "outputs": [],
   "source": [
    "fields = [\"Diameter\", \"Description\"]\n",
    "values = data_access.get_field_values(\"msm_Link\", \"link_test\", fields)\n",
    "print_field_values(fields, values)"
   ]
  },
  {
   "cell_type": "code",
   "execution_count": null,
   "id": "b12d1430",
   "metadata": {},
   "outputs": [],
   "source": [
    "values = {'Diameter': 1.0, 'Description': 'setValues'}\n",
    "data_access.set_values(\"msm_Link\", \"link_test\", values)"
   ]
  },
  {
   "cell_type": "code",
   "execution_count": null,
   "id": "10797bb4",
   "metadata": {},
   "outputs": [],
   "source": [
    "data_access.delete(\"msm_Link\", \"link_test\")"
   ]
  },
  {
   "cell_type": "code",
   "execution_count": null,
   "id": "86416ff2",
   "metadata": {
    "scrolled": true
   },
   "outputs": [],
   "source": [
    "'''To run MIKE 1D engine'''\n",
    "from mikeplus.engines.engine1d import Egnine1D\n",
    "engine = Egnine1D(data_access.datatables)\n",
    "engine.run()"
   ]
  },
  {
   "cell_type": "code",
   "execution_count": null,
   "id": "f31060ad",
   "metadata": {},
   "outputs": [],
   "source": [
    "data_access.close_database()"
   ]
  },
  {
   "cell_type": "code",
   "execution_count": null,
   "id": "d3cc8a09",
   "metadata": {
    "scrolled": false
   },
   "outputs": [],
   "source": [
    "'''To run EPANET engine'''\n",
    "from mikeplus import DataTableAccess\n",
    "from mikeplus.engines.epanet import EPANET\n",
    "\n",
    "data_access = DataTableAccess(\"../tests/testdata/Db/Average DayDemand GPM/AverageDayDemand_GPM.sqlite\")\n",
    "data_access.open_database()\n",
    "engine = EPANET(data_access.datatables)\n",
    "engine.run_engine_epanet()\n",
    "data_access.close_database()"
   ]
  },
  {
   "cell_type": "code",
   "execution_count": null,
   "id": "dcbc979d",
   "metadata": {},
   "outputs": [],
   "source": [
    "'''To test import tool'''\n",
    "from mikeplus.tools.import_tool import ImportTool\n",
    "data_access = DataTableAccess(\"../tests/testdata/import/import.sqlite\")"
   ]
  },
  {
   "cell_type": "code",
   "execution_count": null,
   "id": "59d842b7",
   "metadata": {},
   "outputs": [],
   "source": [
    "data_access.open_database()\n",
    "muids = data_access.get_muid_where(\"msm_Link\")\n",
    "print(\"Value count：\" + str(len(muids)))"
   ]
  },
  {
   "cell_type": "code",
   "execution_count": null,
   "id": "1a3f6c5c",
   "metadata": {},
   "outputs": [],
   "source": [
    "import_tool = ImportTool(\"../tests/testdata/import/config.xml\", data_access.datatables)\n",
    "import_tool.run()"
   ]
  },
  {
   "cell_type": "code",
   "execution_count": null,
   "id": "41acef00",
   "metadata": {},
   "outputs": [],
   "source": [
    "'''To test topology repair tool'''\n",
    "from mikeplus import DataTableAccess\n",
    "from mikeplus.tools.topology_repair_tool import TopoRepairTool\n",
    "\n",
    "def print_status(data_access):\n",
    "    query = data_access.get_muid_where(\"msm_Link\", \"muid='LinkToDel'\")\n",
    "    print(\"Number of 'LinkToDel':\" + str(len(query)))\n",
    "    query = data_access.get_muid_where(\"msm_Node\", \"muid='NodeIsolate'\")\n",
    "    print(\"Number of 'NodeIsolate':\" + str(len(query)))\n",
    "    query = data_access.get_muid_where(\"msm_Link\", \"muid='LinkToSplit'\")\n",
    "    print(\"Number of 'LinkToSplit':\" + str(len(query)))\n",
    "    query = data_access.get_muid_where(\"msm_Link\", \"tonodeid='NodeToSplit'\")\n",
    "    print(\"Number of upstream links of 'NodeToSplit':\" + str(len(query)))\n",
    "    query = data_access.get_muid_where(\"msm_Link\", \"fromnodeid='NodeToSplit'\")\n",
    "    print(\"Number of downstream links of 'NodeToSplit':\" + str(len(query)))\n",
    "    query = data_access.get_muid_where(\"msm_Node\", \"muid='Node_8'\")\n",
    "    print(\"Number of 'Node_8':\" + str(len(query)))\n",
    "\n",
    "data_access = DataTableAccess(\"../tests/testdata/repairToolData/RepairTestCase.sqlite\")\n",
    "data_access.open_database()\n",
    "print_status(data_access)"
   ]
  },
  {
   "cell_type": "code",
   "execution_count": null,
   "id": "2a38be4e",
   "metadata": {},
   "outputs": [],
   "source": [
    "repair_tool = TopoRepairTool(data_access.datatables)\n",
    "repair_tool.run()\n",
    "print_status(data_access)\n",
    "data_access.close_database()"
   ]
  },
  {
   "cell_type": "code",
   "execution_count": null,
   "id": "ee260b3a",
   "metadata": {},
   "outputs": [],
   "source": [
    "'''To test interpolate tool'''\n",
    "from mikeplus import DataTableAccess\n",
    "from mikeplus.tools.interpolation_tool import InterpolationTool\n",
    "data_access = DataTableAccess(\"../tests/testdata/interpolate/inter.sqlite\")\n",
    "data_access.open_database()"
   ]
  },
  {
   "cell_type": "code",
   "execution_count": null,
   "id": "29a79238",
   "metadata": {},
   "outputs": [],
   "source": [
    "fields = [\"Diameter\"]\n",
    "field_val_get = data_access.get_muid_field_values(\"msm_Node\", fields)\n",
    "print(field_val_get)"
   ]
  },
  {
   "cell_type": "code",
   "execution_count": null,
   "id": "939ce24d",
   "metadata": {},
   "outputs": [],
   "source": [
    "tool = InterpolationTool(data_access.datatables)\n",
    "tool.interpolate_from_nearest_feature(\"msm_Node\", \"Diameter\", \"msm_Link\", \"Diameter\")"
   ]
  },
  {
   "cell_type": "code",
   "execution_count": null,
   "id": "ccae85cf",
   "metadata": {},
   "outputs": [],
   "source": [
    "'''To test connection repair tool'''\n",
    "from mikeplus import DataTableAccess\n",
    "from mikeplus.tools.connection_repair_tool import ConnectionRepairTool\n",
    "\n",
    "def print_conn_info(data_access):\n",
    "    station_conn = data_access.get_muid_where(\"m_StationCon\")\n",
    "    print(station_conn)\n",
    "    load_point_conn = data_access.get_muid_where(\"msm_LoadPointConnection\")\n",
    "    print(load_point_conn)\n",
    "    \n",
    "data_access = DataTableAccess(\"../tests/testdata/connectionRepair/repair.sqlite\")\n",
    "data_access.open_database()\n",
    "print_conn_info(data_access)"
   ]
  },
  {
   "cell_type": "code",
   "execution_count": null,
   "id": "9b1a1fc7",
   "metadata": {},
   "outputs": [],
   "source": [
    "conn_repair = ConnectionRepairTool(data_access.datatables)\n",
    "conn_repair.run()\n",
    "print_conn_info(data_access)\n",
    "data_access.close_database()"
   ]
  },
  {
   "cell_type": "code",
   "execution_count": null,
   "id": "f143cc16",
   "metadata": {},
   "outputs": [],
   "source": [
    "'''To test catchment slope length processing tool'''\n",
    "data_access = DataTableAccess(\"../tests/testdata/catchSlopeLen/catch.sqlite\")\n",
    "data_access.open_database()"
   ]
  },
  {
   "cell_type": "code",
   "execution_count": null,
   "id": "7a166740",
   "metadata": {},
   "outputs": [],
   "source": [
    "fields = [\"ModelBSlope\", \"ModelBLength\"]\n",
    "field_val_get = data_access.get_field_values(\"msm_Catchment\", \"imp3\", fields)\n",
    "print(field_val_get)"
   ]
  },
  {
   "cell_type": "code",
   "execution_count": null,
   "id": "57c9e5a4",
   "metadata": {
    "scrolled": false
   },
   "outputs": [],
   "source": [
    "from mikeplus.tools.catch_slope_length_process_tool import CathSlopeLengthProcess\n",
    "\n",
    "catch_ids = [\"imp3\"]\n",
    "tool = CathSlopeLengthProcess(data_access.datatables)\n",
    "tool.run(catch_ids, \"../tests/testdata/catchSlopeLen/Catch_Slope.shp\", \"../tests/testdata/catchSlopeLen/dem.dfs2\", 0)"
   ]
  },
  {
   "cell_type": "code",
   "execution_count": null,
   "id": "54932f10",
   "metadata": {},
   "outputs": [],
   "source": [
    "data_access.close_database()"
   ]
  },
  {
   "cell_type": "code",
   "execution_count": null,
   "id": "b331f5b8",
   "metadata": {},
   "outputs": [],
   "source": []
  }
 ],
 "metadata": {
  "kernelspec": {
   "display_name": "Python 3 (ipykernel)",
   "language": "python",
   "name": "python3"
  },
  "language_info": {
   "codemirror_mode": {
    "name": "ipython",
    "version": 3
   },
   "file_extension": ".py",
   "mimetype": "text/x-python",
   "name": "python",
   "nbconvert_exporter": "python",
   "pygments_lexer": "ipython3",
   "version": "3.8.10"
  }
 },
 "nbformat": 4,
 "nbformat_minor": 5
}

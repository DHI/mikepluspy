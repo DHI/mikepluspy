{
 "cells": [
  {
   "cell_type": "markdown",
   "id": "d61696a6",
   "metadata": {},
   "source": [
    "# Manpulate data in mikeplus database\n",
    "This example shows to manpulate data in mikeplus database. It includes:\n",
    "\n",
    "- Insert a link data into database.\n",
    "- Check if database opened or not.\n",
    "- Update link data for an exist link.\n",
    "- Get link ids by filter.\n",
    "- Get link data for an exist link.\n",
    "- Update node geometry.\n",
    "\n",
    "Both WTK and shapely geometry object are accept for geometry field.\n",
    "\n",
    "- WTK (well-know-text) is accepted for geometry field. You can use this format to insert, update and query data. It uses ISO 19162:2019 standard.\n",
    "    Multiple geometry is not supported.\n",
    "    WTK examples for point, line and polygon:\n",
    "    \n",
    "    - POINT (30 10)\n",
    "    - LINESTRING (30 10, 10 30, 40 40)\n",
    "    - POLYGON ((30 10, 40 40, 20 40, 10 20, 30 10))\n",
    "\n",
    "- Shapely object is accepted for inserting and updateing geometry data. But it's not supported yet for query geometry data. The return data type is\n",
    "    WTK format. Please make sure shapely package has been installed before using it.\n"
   ]
  },
  {
   "cell_type": "code",
   "execution_count": 1,
   "id": "0666baf9",
   "metadata": {},
   "outputs": [],
   "source": [
    "def print_field_values(fields, values):\n",
    "    i = 0\n",
    "    if values != None and len(values) > 0:\n",
    "        while i < len(fields):\n",
    "            print(fields[i] + \":\" + str(values[i]))\n",
    "            i += 1\n",
    "    else:\n",
    "        print(\"There is no data of 'link_test'\")"
   ]
  },
  {
   "cell_type": "code",
   "execution_count": 2,
   "id": "42e57de4",
   "metadata": {},
   "outputs": [
    {
     "data": {
      "text/plain": [
       "<DataTableContainer>\n",
       "Db major version: 2024\n",
       "Db minor version: 1.0\n",
       "Active model: CS_MIKE1D\n",
       "Unit system: MU_CS_SI\n",
       "Active simulation: Sirius_1_DEMO"
      ]
     },
     "execution_count": 2,
     "metadata": {},
     "output_type": "execute_result"
    }
   ],
   "source": [
    "\"\"\"To manpulate data in database, e.g. insert, update, delete\"\"\"\n",
    "from mikeplus import DataTableAccess\n",
    "\n",
    "data_access = DataTableAccess(\"../tests/testdata/Db/Sirius/Sirius.sqlite\")\n",
    "data_access.open_database()\n",
    "data_access"
   ]
  },
  {
   "cell_type": "markdown",
   "id": "4f32cbe5",
   "metadata": {},
   "source": []
  },
  {
   "cell_type": "code",
   "execution_count": null,
   "id": "a0dfb0ce",
   "metadata": {},
   "outputs": [],
   "source": [
    "data_access.is_database_open()"
   ]
  },
  {
   "cell_type": "code",
   "execution_count": null,
   "id": "cfabd6c4",
   "metadata": {},
   "outputs": [],
   "source": [
    "values = {\n",
    "    \"Diameter\": 2.0,\n",
    "    \"Description\": \"insertValues\",\n",
    "    \"geometry\": \"LINESTRING(3 4,10 50,20 25)\",\n",
    "}\n",
    "data_access.insert(\"msm_Link\", \"link_test\", values)"
   ]
  },
  {
   "cell_type": "code",
   "execution_count": null,
   "id": "28644d8f",
   "metadata": {},
   "outputs": [],
   "source": [
    "query = data_access.get_muid_where(\"msm_Link\", \"MUID='link_test'\")\n",
    "print(query)"
   ]
  },
  {
   "cell_type": "code",
   "execution_count": null,
   "id": "6dff5333",
   "metadata": {},
   "outputs": [],
   "source": [
    "fields = [\"Diameter\", \"Description\", \"geometry\"]\n",
    "values = data_access.get_field_values(\"msm_Link\", \"link_test\", fields)\n",
    "print_field_values(fields, values)"
   ]
  },
  {
   "cell_type": "code",
   "execution_count": null,
   "id": "b12d1430",
   "metadata": {},
   "outputs": [],
   "source": [
    "values = {\n",
    "    \"Diameter\": 1.0,\n",
    "    \"Description\": \"setValues\",\n",
    "    \"geometry\": \"LINESTRING(4 5,20 60,30 35)\",\n",
    "}\n",
    "data_access.set_values(\"msm_Link\", \"link_test\", values)\n",
    "values = data_access.get_field_values(\"msm_Link\", \"link_test\", fields)\n",
    "print_field_values(fields, values)"
   ]
  },
  {
   "cell_type": "code",
   "execution_count": null,
   "id": "fa039e4e",
   "metadata": {},
   "outputs": [],
   "source": [
    "\"\"\"Update link geometry\"\"\"\n",
    "data_access.set_value(\n",
    "    \"msm_Link\", \"link_test\", \"geometry\", \"LINESTRING(5 6,30 70,40 45)\"\n",
    ")\n",
    "fields = [\"geometry\"]\n",
    "values = data_access.get_field_values(\"msm_Link\", \"link_test\", fields)\n",
    "print_field_values(fields, values)"
   ]
  },
  {
   "cell_type": "code",
   "execution_count": null,
   "id": "10797bb4",
   "metadata": {},
   "outputs": [],
   "source": [
    "data_access.delete(\"msm_Link\", \"link_test\")"
   ]
  },
  {
   "cell_type": "code",
   "execution_count": null,
   "id": "f45ece86",
   "metadata": {},
   "outputs": [],
   "source": [
    "\"\"\"Insert node with geometry of wkt format, and update node coordinate x and y\"\"\"\n",
    "values = {\"geometry\": \"POINT(6 10)\"}\n",
    "data_access.insert(\"msm_Node\", \"node_test\", values)\n",
    "fields = [\"GeomX\", \"GeomY\", \"geometry\"]\n",
    "values = data_access.get_field_values(\"msm_Node\", \"node_test\", fields)\n",
    "print(\"node has been inserted, current data is:\")\n",
    "print_field_values(fields, values)\n",
    "data_access.set_value(\"msm_Node\", \"node_test\", \"GeomX\", 8.0)\n",
    "values = data_access.get_field_values(\"msm_Node\", \"node_test\", fields)\n",
    "print(\"GeomX has been updated, current data is:\")\n",
    "print_field_values(fields, values)\n",
    "data_access.set_value(\"msm_Node\", \"node_test\", \"geometry\", \"POINT(10 20)\")\n",
    "print(\"geometry has been updated, current data is:\")\n",
    "print_field_values(fields, values)\n",
    "data_access.delete(\"msm_Node\", \"node_test\")"
   ]
  },
  {
   "cell_type": "code",
   "execution_count": null,
   "id": "d9fcd4f5",
   "metadata": {},
   "outputs": [],
   "source": [
    "\"\"\"Insert line with geometry of shapely object, and update geometry with shapely object\"\"\"\n",
    "from shapely.geometry import LineString\n",
    "\n",
    "line = LineString([(0, 0), (10, 10)])\n",
    "values = {\"geometry\": line}\n",
    "data_access.insert(\"msm_Link\", \"link_shp_test\", values)\n",
    "fields = [\"geometry\"]\n",
    "values = data_access.get_field_values(\"msm_Link\", \"link_shp_test\", fields)\n",
    "print(\"link has been inserted, current data is:\")\n",
    "print_field_values(fields, values)\n",
    "line = LineString([(10, 10), (20, 20)])\n",
    "data_access.set_value(\"msm_Link\", \"link_shp_test\", \"geometry\", line)\n",
    "values = data_access.get_field_values(\"msm_Link\", \"link_shp_test\", fields)\n",
    "print(\"link geometry has been updated, current data is:\")\n",
    "print_field_values(fields, values)\n",
    "data_access.delete(\"msm_Link\", \"link_shp_test\")"
   ]
  },
  {
   "cell_type": "code",
   "execution_count": null,
   "id": "aeb30396",
   "metadata": {},
   "outputs": [
    {
     "name": "stdout",
     "output_type": "stream",
     "text": [
      "ComputationBegin:01-11-2023 01:00:00\n",
      "ComputationEnd:01-11-2023 02:00:00\n"
     ]
    }
   ],
   "source": [
    "\"\"\"Change start time and end time for simulation\"\"\"\n",
    "from datetime import datetime\n",
    "\n",
    "values = {\n",
    "    \"ComputationBegin\": datetime(2023, 11, 1, 0, 0, 0, 0),\n",
    "    \"ComputationEnd\": datetime(2023, 11, 1, 1, 0, 0, 0),\n",
    "}\n",
    "data_access.insert(\"msm_Project\", \"sim_test\", values)\n",
    "fields = [\"ComputationBegin\", \"ComputationEnd\"]\n",
    "values = data_access.get_field_values(\"msm_Project\", \"sim_test\", fields)\n",
    "print_field_values(fields, values)\n",
    "\n",
    "values = {\n",
    "    \"ComputationBegin\": datetime(2023, 11, 1, 1, 0, 0, 0),\n",
    "    \"ComputationEnd\": datetime(2023, 11, 1, 2, 0, 0, 0),\n",
    "}\n",
    "data_access.set_values(\"msm_Project\", \"sim_test\", values)\n",
    "values = data_access.get_field_values(\"msm_Project\", \"sim_test\", fields)\n",
    "print_field_values(fields, values)\n",
    "data_access.delete(\"msm_Project\", \"sim_test\")\n"
   ]
  },
  {
   "cell_type": "code",
   "execution_count": 5,
   "id": "c99513d8",
   "metadata": {},
   "outputs": [],
   "source": [
    "data_access.delete(\"msm_Project\", \"sim_test\")"
   ]
  },
  {
   "cell_type": "code",
   "execution_count": 4,
   "id": "f31060ad",
   "metadata": {},
   "outputs": [],
   "source": [
    "data_access.close_database()"
   ]
  }
 ],
 "metadata": {
  "kernelspec": {
   "display_name": "Python 3",
   "language": "python",
   "name": "python3"
  },
  "language_info": {
   "codemirror_mode": {
    "name": "ipython",
    "version": 3
   },
   "file_extension": ".py",
   "mimetype": "text/x-python",
   "name": "python",
   "nbconvert_exporter": "python",
   "pygments_lexer": "ipython3",
   "version": "3.12.7"
  }
 },
 "nbformat": 4,
 "nbformat_minor": 5
}

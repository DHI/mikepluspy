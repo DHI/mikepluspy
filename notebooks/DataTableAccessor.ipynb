{
 "cells": [
  {
   "cell_type": "code",
   "execution_count": null,
   "id": "a0c98d73",
   "metadata": {},
   "outputs": [],
   "source": [
    "import os.path\n",
    "\n",
    "def print_field_values(fields, values):\n",
    "    i = 0\n",
    "    if values != None and len(values) > 0:\n",
    "        while i < len(fields):\n",
    "            print(fields[i] + \":\" + str(values[i]))\n",
    "            i += 1\n",
    "    else:\n",
    "        print(\"There is no data of 'link_test'\")\n"
   ]
  },
  {
   "cell_type": "code",
   "execution_count": null,
   "id": "42e57de4",
   "metadata": {},
   "outputs": [],
   "source": [
    "'''To manpulate data in database, e.g. insert, update, delete'''\n",
    "from mikeplus import DataTableAccess\n",
    "from mikeplus.fieldTableNames.tableNames import CSTabNames\n",
    "from mikeplus.fieldTableNames.fieldNames import Fields\n",
    "data_access = DataTableAccess(\"../tests/testdata/Db/Sirius/Sirius.sqlite\")\n",
    "data_access.open_database()"
   ]
  },
  {
   "cell_type": "code",
   "execution_count": null,
   "id": "a0dfb0ce",
   "metadata": {},
   "outputs": [],
   "source": [
    "data_access.is_database_open()"
   ]
  },
  {
   "cell_type": "code",
   "execution_count": null,
   "id": "cfabd6c4",
   "metadata": {},
   "outputs": [],
   "source": [
    "values = {Fields.LinkFields.Diameter: 2.0, Fields.DescriptionFieldBase.Description: 'insertValues'}\n",
    "data_access.insert(CSTabNames.LinkTable, \"link_test\", values)"
   ]
  },
  {
   "cell_type": "code",
   "execution_count": null,
   "id": "28644d8f",
   "metadata": {},
   "outputs": [],
   "source": [
    "query = data_access.get_muid_where(CSTabNames.LinkTable, \"MUID='link_test'\")\n",
    "print(query)"
   ]
  },
  {
   "cell_type": "code",
   "execution_count": null,
   "id": "6dff5333",
   "metadata": {},
   "outputs": [],
   "source": [
    "fields = [Fields.LinkFields.Diameter, Fields.DescriptionFieldBase.Description]\n",
    "values = data_access.get_field_values(CSTabNames.LinkTable, \"link_test\", fields)\n",
    "print_field_values(fields, values)"
   ]
  },
  {
   "cell_type": "code",
   "execution_count": null,
   "id": "b12d1430",
   "metadata": {},
   "outputs": [],
   "source": [
    "values = {Fields.LinkFields.Diameter: 1.0, Fields.DescriptionFieldBase.Description: 'setValues'}\n",
    "data_access.set_values(CSTabNames.LinkTable, \"link_test\", values)"
   ]
  },
  {
   "cell_type": "code",
   "execution_count": null,
   "id": "10797bb4",
   "metadata": {},
   "outputs": [],
   "source": [
    "data_access.delete(CSTabNames.LinkTable, \"link_test\")"
   ]
  },
  {
   "cell_type": "code",
   "execution_count": null,
   "id": "f31060ad",
   "metadata": {},
   "outputs": [],
   "source": [
    "data_access.close_database()"
   ]
  }
 ],
 "metadata": {
  "kernelspec": {
   "display_name": "Python 3 (ipykernel)",
   "language": "python",
   "name": "python3"
  },
  "language_info": {
   "codemirror_mode": {
    "name": "ipython",
    "version": 3
   },
   "file_extension": ".py",
   "mimetype": "text/x-python",
   "name": "python",
   "nbconvert_exporter": "python",
   "pygments_lexer": "ipython3",
   "version": "3.8.10"
  }
 },
 "nbformat": 4,
 "nbformat_minor": 5
}

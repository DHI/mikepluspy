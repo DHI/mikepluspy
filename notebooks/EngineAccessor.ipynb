{
 "cells": [
  {
   "cell_type": "code",
   "execution_count": null,
   "id": "d3e58f6a",
   "metadata": {},
   "outputs": [],
   "source": [
    "\"\"\"To run MIKE 1D engine\"\"\"\n",
    "import os\n",
    "from mikeplus import DataTableAccess\n",
    "from mikeplus.engines.engine1d import Engine1D\n",
    "\n",
    "data_access = DataTableAccess(\"../tests/testdata/Db/Sirius/Sirius.sqlite\")\n",
    "data_access.open_database()\n",
    "engine = Engine1D(data_access.datatables)\n",
    "engine.run()\n",
    "data_access.close_database()"
   ]
  },
  {
   "cell_type": "code",
   "execution_count": null,
   "id": "30c2c4c5",
   "metadata": {},
   "outputs": [],
   "source": [
    "dbFile = os.path.join(\"tests\", \"testdata\", \"Db\", \"Sirius\", \"Sirius.sqlite\")\n",
    "print(dbFile)\n",
    "dbFile = os.path.abspath(dbFile)\n",
    "print(dbFile)"
   ]
  },
  {
   "cell_type": "code",
   "execution_count": null,
   "id": "d3cc8a09",
   "metadata": {
    "scrolled": false
   },
   "outputs": [],
   "source": [
    "\"\"\"To run EPANET engine\"\"\"\n",
    "import os\n",
    "from mikeplus import DataTableAccess\n",
    "from mikeplus.engines.epanet import EPANET\n",
    "\n",
    "current_dir = os.getcwd()\n",
    "data_access = DataTableAccess(\n",
    "    \"../tests/testdata/Db/Average DayDemand GPM/AverageDayDemand_GPM.sqlite\"\n",
    ")\n",
    "data_access.open_database()\n",
    "engine = EPANET(data_access.datatables)\n",
    "engine.run_engine_epanet()\n",
    "data_access.close_database()\n",
    "os.chdir(current_dir)"
   ]
  },
  {
   "cell_type": "code",
   "execution_count": null,
   "id": "d16a477c",
   "metadata": {},
   "outputs": [],
   "source": [
    "\"\"\"To run SWMM engine\"\"\"\n",
    "import os\n",
    "from mikeplus import DataTableAccess\n",
    "from mikeplus.engines.swmm import SWMM\n",
    "\n",
    "current_dir = os.getcwd()\n",
    "data_access = DataTableAccess(\"../tests/testdata/Db/SWMM/Simple_Network.sqlite\")\n",
    "data_access.open_database()\n",
    "engine = SWMM(data_access.datatables)\n",
    "engine.run()\n",
    "data_access.close_database()\n",
    "os.chdir(current_dir)"
   ]
  }
 ],
 "metadata": {
  "kernelspec": {
   "display_name": "Python 3 (ipykernel)",
   "language": "python",
   "name": "python3"
  },
  "language_info": {
   "codemirror_mode": {
    "name": "ipython",
    "version": 3
   },
   "file_extension": ".py",
   "mimetype": "text/x-python",
   "name": "python",
   "nbconvert_exporter": "python",
   "pygments_lexer": "ipython3",
   "version": "3.8.10"
  }
 },
 "nbformat": 4,
 "nbformat_minor": 5
}

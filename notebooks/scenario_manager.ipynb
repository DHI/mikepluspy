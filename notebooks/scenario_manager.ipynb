{
 "cells": [
  {
   "cell_type": "markdown",
   "metadata": {},
   "source": [
    "# Scenario Manager\n",
    "\n",
    "This example demonstrates how to manager scenario, such as:\n",
    "- Get current activated scenario name\n",
    "- Get all scenraio names\n",
    "- Active a scenraio based on input scenario name\n"
   ]
  },
  {
   "cell_type": "code",
   "execution_count": null,
   "metadata": {},
   "outputs": [
    {
     "data": {
      "text/plain": [
       "<DataTableContainer>\n",
       "Db major version: 2024\n",
       "Db minor version: 1.0\n",
       "Active model: CS_MIKE1D\n",
       "Unit system: MU_CS_SI\n",
       "Active simulation: Sirius_1_DEMO"
      ]
     },
     "execution_count": 2,
     "metadata": {},
     "output_type": "execute_result"
    }
   ],
   "source": [
    "from mikeplus import DataTableAccess\n",
    "\n",
    "dta = DataTableAccess(\"../tests/testdata/Db/Sirius/Sirius.sqlite\")\n",
    "dta.open_database()\n",
    "dta"
   ]
  },
  {
   "cell_type": "code",
   "execution_count": null,
   "metadata": {},
   "outputs": [
    {
     "data": {
      "text/plain": [
       "<DHI.Amelia.DataModule.Interface.Services.IScenarioManager object at 0x000002517E2B0F40>"
      ]
     },
     "execution_count": 3,
     "metadata": {},
     "output_type": "execute_result"
    }
   ],
   "source": [
    "datasource = dta.datatables.DataSource.__implementation__\n",
    "scenario_manager = datasource.ScenarioManager\n",
    "scenario_manager"
   ]
  },
  {
   "cell_type": "code",
   "execution_count": null,
   "metadata": {},
   "outputs": [
    {
     "data": {
      "text/plain": [
       "'Base'"
      ]
     },
     "execution_count": 4,
     "metadata": {},
     "output_type": "execute_result"
    }
   ],
   "source": [
    "current_scenario = scenario_manager.ActiveScenario.Id\n",
    "current_scenario"
   ]
  },
  {
   "cell_type": "code",
   "execution_count": null,
   "metadata": {},
   "outputs": [
    {
     "name": "stdout",
     "output_type": "stream",
     "text": [
      "Base\n",
      "sub_scenario\n"
     ]
    }
   ],
   "source": [
    "scenarios = scenario_manager.GetScenarios()\n",
    "for scenario in scenarios:\n",
    "    print(str(scenario))"
   ]
  },
  {
   "cell_type": "code",
   "execution_count": null,
   "metadata": {},
   "outputs": [
    {
     "data": {
      "text/plain": [
       "[20.0]"
      ]
     },
     "execution_count": 6,
     "metadata": {},
     "output_type": "execute_result"
    }
   ],
   "source": [
    "values = dta.get_field_values(\"msm_Link\", \"Link_2\", \"Length\")\n",
    "values"
   ]
  },
  {
   "cell_type": "code",
   "execution_count": null,
   "metadata": {},
   "outputs": [
    {
     "data": {
      "text/plain": [
       "'sub_scenario'"
      ]
     },
     "execution_count": 7,
     "metadata": {},
     "output_type": "execute_result"
    }
   ],
   "source": [
    "sce_id = scenario_manager.FindScenarioByName(\"sub_scenario\").Id\n",
    "scenario_manager.ActivateScenario(sce_id, True)\n",
    "current_scenario = scenario_manager.ActiveScenario.Name\n",
    "current_scenario"
   ]
  },
  {
   "cell_type": "code",
   "execution_count": null,
   "metadata": {},
   "outputs": [
    {
     "data": {
      "text/plain": [
       "[24.0]"
      ]
     },
     "execution_count": 8,
     "metadata": {},
     "output_type": "execute_result"
    }
   ],
   "source": [
    "values = dta.get_field_values(\"msm_Link\", \"Link_2\", \"Length\")\n",
    "values"
   ]
  },
  {
   "cell_type": "code",
   "execution_count": null,
   "metadata": {},
   "outputs": [],
   "source": [
    "scenario_manager.ActivateScenario(\"Base\", True)"
   ]
  },
  {
   "cell_type": "code",
   "execution_count": 10,
   "metadata": {},
   "outputs": [],
   "source": [
    "dta.close_database()"
   ]
  }
 ],
 "metadata": {
  "kernelspec": {
   "display_name": "Python 3",
   "language": "python",
   "name": "python3"
  },
  "language_info": {
   "codemirror_mode": {
    "name": "ipython",
    "version": 3
   },
   "file_extension": ".py",
   "mimetype": "text/x-python",
   "name": "python",
   "nbconvert_exporter": "python",
   "pygments_lexer": "ipython3",
   "version": "3.8.10"
  }
 },
 "nbformat": 4,
 "nbformat_minor": 2
}

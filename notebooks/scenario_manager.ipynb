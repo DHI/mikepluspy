{
 "cells": [
  {
   "cell_type": "markdown",
   "metadata": {},
   "source": [
    "# Scenario Manager\n",
    "\n",
    "This example demonstrates how to manage MIKE+ scenarios, such as:\n",
    "- Get current activate scenario name\n",
    "- Get a list of all scenario names\n",
    "- Activate a scenario based on input scenario name\n"
   ]
  },
  {
   "cell_type": "code",
   "execution_count": 1,
   "metadata": {},
   "outputs": [
    {
     "data": {
      "text/plain": [
       "<DataTableContainer>\n",
       "Db major version: 2025\n",
       "Db minor version: 0.0\n",
       "Active model: CS_MIKE1D\n",
       "Unit system: MU_CS_SI\n",
       "Active scenario: Base\n",
       "Active simulation: Sirius_1_DEMO"
      ]
     },
     "execution_count": 1,
     "metadata": {},
     "output_type": "execute_result"
    }
   ],
   "source": [
    "from mikeplus import DataTableAccess\n",
    "\n",
    "dta = DataTableAccess(\"../tests/testdata/Db/Sirius/Sirius.sqlite\")\n",
    "dta.open_database()\n",
    "dta"
   ]
  },
  {
   "cell_type": "code",
   "execution_count": 2,
   "metadata": {},
   "outputs": [
    {
     "data": {
      "text/plain": [
       "['Base', 'sub_scenario']"
      ]
     },
     "execution_count": 2,
     "metadata": {},
     "output_type": "execute_result"
    }
   ],
   "source": [
    "# Get a list of all scenarios in the database\n",
    "dta.scenarios"
   ]
  },
  {
   "cell_type": "code",
   "execution_count": 3,
   "metadata": {},
   "outputs": [
    {
     "data": {
      "text/plain": [
       "'Base'"
      ]
     },
     "execution_count": 3,
     "metadata": {},
     "output_type": "execute_result"
    }
   ],
   "source": [
    "# Check current active scenario\n",
    "dta.active_scenario"
   ]
  },
  {
   "cell_type": "code",
   "execution_count": 4,
   "metadata": {},
   "outputs": [
    {
     "data": {
      "text/plain": [
       "[20.0]"
      ]
     },
     "execution_count": 4,
     "metadata": {},
     "output_type": "execute_result"
    }
   ],
   "source": [
    "# Check link length value for current active scenario\n",
    "values = dta.get_field_values(\"msm_Link\", \"Link_2\", \"Length\")\n",
    "values"
   ]
  },
  {
   "cell_type": "code",
   "execution_count": 5,
   "metadata": {},
   "outputs": [
    {
     "data": {
      "text/plain": [
       "<DataTableContainer>\n",
       "Db major version: 2025\n",
       "Db minor version: 0.0\n",
       "Active model: CS_MIKE1D\n",
       "Unit system: MU_CS_SI\n",
       "Active scenario: sub_scenario\n",
       "Active simulation: Sirius_1_DEMO"
      ]
     },
     "execution_count": 5,
     "metadata": {},
     "output_type": "execute_result"
    }
   ],
   "source": [
    "# Activate 'sub_scenario'\n",
    "dta.activate_scenario(\"sub_scenario\")\n",
    "# Check that the update active scenario is shows in DataTableAccess representation\n",
    "dta"
   ]
  },
  {
   "cell_type": "code",
   "execution_count": 6,
   "metadata": {},
   "outputs": [
    {
     "data": {
      "text/plain": [
       "[24.0]"
      ]
     },
     "execution_count": 6,
     "metadata": {},
     "output_type": "execute_result"
    }
   ],
   "source": [
    "# Check link length value again\n",
    "values = dta.get_field_values(\"msm_Link\", \"Link_2\", \"Length\")\n",
    "values"
   ]
  },
  {
   "cell_type": "code",
   "execution_count": 7,
   "metadata": {},
   "outputs": [],
   "source": [
    "# Restore Base scenario\n",
    "dta.activate_scenario(\"Base\")"
   ]
  },
  {
   "cell_type": "code",
   "execution_count": 8,
   "metadata": {},
   "outputs": [],
   "source": [
    "dta.close_database()"
   ]
  }
 ],
 "metadata": {
  "kernelspec": {
   "display_name": "Python312.4-64",
   "language": "python",
   "name": "python3"
  },
  "language_info": {
   "codemirror_mode": {
    "name": "ipython",
    "version": 3
   },
   "file_extension": ".py",
   "mimetype": "text/x-python",
   "name": "python",
   "nbconvert_exporter": "python",
   "pygments_lexer": "ipython3",
   "version": "3.12.4"
  }
 },
 "nbformat": 4,
 "nbformat_minor": 2
}

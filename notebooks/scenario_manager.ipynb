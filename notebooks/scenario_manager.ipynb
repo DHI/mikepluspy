{
 "cells": [
  {
   "cell_type": "markdown",
   "metadata": {},
   "source": [
    "# Scenario Manager\n",
    "\n",
    "This example demonstrates how to manager scenario, such as:\n",
    "- Get current activated scenario ID\n",
    "- Get all scenraio id\n",
    "- Active a scenraio based on input scenario id\n"
   ]
  },
  {
   "cell_type": "code",
   "execution_count": 1,
   "metadata": {},
   "outputs": [
    {
     "data": {
      "text/plain": [
       "<DataTableContainer>\n",
       "Db major version: 2025\n",
       "Db minor version: 0.0\n",
       "Active model: CS_MIKE1D\n",
       "Unit system: MU_CS_SI\n",
       "Active simulation: Sirius_1_DEMO"
      ]
     },
     "execution_count": 1,
     "metadata": {},
     "output_type": "execute_result"
    }
   ],
   "source": [
    "from mikeplus import DataTableAccess\n",
    "\n",
    "dta = DataTableAccess(\"../tests/testdata/Db/Sirius/Sirius.sqlite\")\n",
    "dta.open_database()\n",
    "dta\n"
   ]
  },
  {
   "cell_type": "code",
   "execution_count": null,
   "metadata": {},
   "outputs": [],
   "source": [
    "datasource = dta.DataSource.__implementation__\n",
    "scenario_manager = datasource.ScenarioManager._implementation__\n",
    "scenario_manager\n"
   ]
  },
  {
   "cell_type": "code",
   "execution_count": 2,
   "metadata": {},
   "outputs": [
    {
     "ename": "AttributeError",
     "evalue": "'DataTableAccess' object has no attribute 'DataSource'",
     "output_type": "error",
     "traceback": [
      "\u001b[1;31m---------------------------------------------------------------------------\u001b[0m",
      "\u001b[1;31mAttributeError\u001b[0m                            Traceback (most recent call last)",
      "Cell \u001b[1;32mIn[2], line 1\u001b[0m\n\u001b[1;32m----> 1\u001b[0m current_scenario \u001b[38;5;241m=\u001b[39m \u001b[43mdta\u001b[49m\u001b[38;5;241;43m.\u001b[39;49m\u001b[43mDataSource\u001b[49m\u001b[38;5;241m.\u001b[39mScenarioManager\u001b[38;5;241m.\u001b[39mActiveScenario\u001b[38;5;241m.\u001b[39mId\n\u001b[0;32m      2\u001b[0m current_scenario\n",
      "\u001b[1;31mAttributeError\u001b[0m: 'DataTableAccess' object has no attribute 'DataSource'"
     ]
    }
   ],
   "source": [
    "current_scenario = dta.DataSource.ScenarioManager.ActiveScenario.Id\n",
    "current_scenario\n"
   ]
  },
  {
   "cell_type": "code",
   "execution_count": null,
   "metadata": {},
   "outputs": [],
   "source": [
    "scenarios = dta.DataSource.ScenarioManager.GetScenarios()\n",
    "scenarios\n"
   ]
  },
  {
   "cell_type": "code",
   "execution_count": null,
   "metadata": {},
   "outputs": [],
   "source": [
    "values = dta.get_field_values(\"msm_Link\", \"Link_2\", \"Diameter\")\n",
    "values\n"
   ]
  },
  {
   "cell_type": "code",
   "execution_count": null,
   "metadata": {},
   "outputs": [],
   "source": [
    "dta.DataSource.ScenarioManager.ActivateScenario(\"sub_scenario\", False)"
   ]
  },
  {
   "cell_type": "code",
   "execution_count": null,
   "metadata": {},
   "outputs": [],
   "source": [
    "values = dta.get_field_values(\"msm_Link\", \"Link_2\", \"Diameter\")\n",
    "values\n"
   ]
  },
  {
   "cell_type": "code",
   "execution_count": null,
   "metadata": {},
   "outputs": [],
   "source": [
    "dta.DataSource.ScenarioManager.ActivateScenario(\"Base\", False)"
   ]
  },
  {
   "cell_type": "code",
   "execution_count": null,
   "metadata": {},
   "outputs": [],
   "source": [
    "dta.close_database()"
   ]
  }
 ],
 "metadata": {
  "kernelspec": {
   "display_name": "Python 3",
   "language": "python",
   "name": "python3"
  },
  "language_info": {
   "codemirror_mode": {
    "name": "ipython",
    "version": 3
   },
   "file_extension": ".py",
   "mimetype": "text/x-python",
   "name": "python",
   "nbconvert_exporter": "python",
   "pygments_lexer": "ipython3",
   "version": "3.8.10"
  }
 },
 "nbformat": 4,
 "nbformat_minor": 2
}

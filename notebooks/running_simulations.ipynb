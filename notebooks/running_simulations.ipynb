{
 "cells": [
  {
   "cell_type": "code",
   "execution_count": 6,
   "id": "078dcbb8",
   "metadata": {},
   "outputs": [],
   "source": [
    "import mikeplus as mp"
   ]
  },
  {
   "cell_type": "code",
   "execution_count": 7,
   "id": "d3e58f6a",
   "metadata": {},
   "outputs": [
    {
     "name": "stdout",
     "output_type": "stream",
     "text": [
      "Sirius_1_DEMOBaseDefault_Network_HD.res1d\n"
     ]
    }
   ],
   "source": [
    "# Running MIKE 1D collection system model\n",
    "with mp.open(\"../tests/testdata/Db/Sirius/Sirius.sqlite\") as db:\n",
    "    result_files = db.run()\n",
    "\n",
    "# run() returns a list of Path objects to the result files\n",
    "for result_file in result_files:\n",
    "    print(result_file.name)"
   ]
  },
  {
   "cell_type": "code",
   "execution_count": 8,
   "id": "8f69b624",
   "metadata": {},
   "outputs": [
    {
     "name": "stdout",
     "output_type": "stream",
     "text": [
      "Sirius_1_DEMOBaseDefault_Network_HD.res1d\n"
     ]
    }
   ],
   "source": [
    "# Running MIKE 1D collection system model\n",
    "with mp.open(\"../tests/testdata/Db/Sirius/Sirius.sqlite\") as db:\n",
    "    result_files = db.run(\"Sirius_1_DEMO\") # Run the Sirius_1_DEMO simulation\n",
    "\n",
    "# run() returns a list of Path objects to the result files\n",
    "for result_file in result_files:\n",
    "    print(result_file.name)"
   ]
  },
  {
   "cell_type": "code",
   "execution_count": 9,
   "id": "a775728e",
   "metadata": {},
   "outputs": [
    {
     "name": "stdout",
     "output_type": "stream",
     "text": [
      "100y_flowBaseResult_file_2.res1d\n",
      "100y_flowBase2D dynamics.dfsu\n",
      "100y_flowBase2D statistics.dfsu\n",
      "100y_flowBaseDefault_Surface_runoff.res1d\n"
     ]
    }
   ],
   "source": [
    "# Running a 2D coupled flood model\n",
    "with mp.open(\"../tests/testdata/Db/2D Blue Beach/100y_combined.sqlite\") as db:\n",
    "    result_files = db.run()\n",
    "\n",
    "# run() returns a list of Path objects to the result files\n",
    "for result_file in result_files:\n",
    "    print(result_file.name)"
   ]
  },
  {
   "cell_type": "code",
   "execution_count": 10,
   "id": "d3cc8a09",
   "metadata": {
    "scrolled": false
   },
   "outputs": [
    {
     "name": "stdout",
     "output_type": "stream",
     "text": [
      "WD_1BaseBase.res\n"
     ]
    }
   ],
   "source": [
    "# Running an EPANET water distribution model\n",
    "with mp.open(\"../tests/testdata/Db/Epanet_Demo/Epanet_Demo.sqlite\") as db:\n",
    "    result_files = db.run()\n",
    "\n",
    "# run() returns a list of Path objects to the result files\n",
    "for result_file in result_files:\n",
    "    print(result_file.name)"
   ]
  },
  {
   "cell_type": "code",
   "execution_count": 11,
   "id": "d16a477c",
   "metadata": {},
   "outputs": [
    {
     "name": "stdout",
     "output_type": "stream",
     "text": [
      "Rain_12HRS_TestDemo_Base.out\n"
     ]
    }
   ],
   "source": [
    "# Running a SWMM collection system model\n",
    "with mp.open(\"../tests/testdata/Db/SWMM/Simple_Network.sqlite\") as db:\n",
    "    result_files = db.run()\n",
    "\n",
    "# run() returns a list of Path objects to the result files\n",
    "for result_file in result_files:\n",
    "    print(result_file.name)"
   ]
  }
 ],
 "metadata": {
  "kernelspec": {
   "display_name": ".venv",
   "language": "python",
   "name": "python3"
  },
  "language_info": {
   "codemirror_mode": {
    "name": "ipython",
    "version": 3
   },
   "file_extension": ".py",
   "mimetype": "text/x-python",
   "name": "python",
   "nbconvert_exporter": "python",
   "pygments_lexer": "ipython3",
   "version": "3.13.3"
  }
 },
 "nbformat": 4,
 "nbformat_minor": 5
}

{
 "cells": [
  {
   "cell_type": "markdown",
   "metadata": {},
   "source": [
    "# Run multiple rainfall events\n",
    "- Explore rainfall boundary conditions using MIKE IO.\n",
    "- Create a boundary condition for each event; set all inactive by default.\n",
    "- Run the model for each event by activating the relevant boundary condition and updating the scenario name."
   ]
  },
  {
   "cell_type": "code",
   "execution_count": 1,
   "metadata": {},
   "outputs": [],
   "source": [
    "from pathlib import Path\n",
    "\n",
    "rainfall_timeseries = Path(\"../tests/testdata/Db/Sirius/Sirius_IDF_rainfall.dfs0\")\n",
    "db_path = Path(\"../tests/testdata//Db/Sirius/Sirius.sqlite\")"
   ]
  },
  {
   "cell_type": "markdown",
   "metadata": {},
   "source": [
    "#### Explore rainfall boundary dfs0 file"
   ]
  },
  {
   "cell_type": "code",
   "execution_count": 2,
   "metadata": {},
   "outputs": [
    {
     "data": {
      "text/plain": [
       "<mikeio.Dataset>\n",
       "dims: (time:22)\n",
       "time: 2019-01-01 00:00:00 - 2019-01-02 00:00:00 (22 non-equidistant records)\n",
       "geometry: GeometryUndefined()\n",
       "items:\n",
       "  0:   F=20 <Rainfall Intensity> (mm per hour) - 3\n",
       "  1:   F=10 <Rainfall Intensity> (mm per hour) - 3\n",
       "  2:   F=5 <Rainfall Intensity> (mm per hour) - 3\n",
       "  3:   F=2 <Rainfall Intensity> (mm per hour) - 3\n",
       "  4:   F=1 <Rainfall Intensity> (mm per hour) - 3\n",
       "  5:   F=0.5 <Rainfall Intensity> (mm per hour) - 3\n",
       "  6:   F=0.2 <Rainfall Intensity> (mm per hour) - 3\n",
       "  7:   F=0.1 <Rainfall Intensity> (mm per hour) - 3\n",
       "  8:   F=0.05 <Rainfall Intensity> (mm per hour) - 3"
      ]
     },
     "execution_count": 2,
     "metadata": {},
     "output_type": "execute_result"
    }
   ],
   "source": [
    "import mikeio\n",
    "\n",
    "ds = mikeio.read(rainfall_timeseries)\n",
    "ds"
   ]
  },
  {
   "cell_type": "code",
   "execution_count": 3,
   "metadata": {},
   "outputs": [
    {
     "data": {
      "text/plain": [
       "[{'file_path': 'Sirius_IDF_rainfall.dfs0',\n",
       "  'item_name': ' F=20',\n",
       "  'data_type': 'Rainfall Intensity'},\n",
       " {'file_path': 'Sirius_IDF_rainfall.dfs0',\n",
       "  'item_name': ' F=10',\n",
       "  'data_type': 'Rainfall Intensity'},\n",
       " {'file_path': 'Sirius_IDF_rainfall.dfs0',\n",
       "  'item_name': ' F=5',\n",
       "  'data_type': 'Rainfall Intensity'},\n",
       " {'file_path': 'Sirius_IDF_rainfall.dfs0',\n",
       "  'item_name': ' F=2',\n",
       "  'data_type': 'Rainfall Intensity'},\n",
       " {'file_path': 'Sirius_IDF_rainfall.dfs0',\n",
       "  'item_name': ' F=1',\n",
       "  'data_type': 'Rainfall Intensity'},\n",
       " {'file_path': 'Sirius_IDF_rainfall.dfs0',\n",
       "  'item_name': ' F=0.5',\n",
       "  'data_type': 'Rainfall Intensity'},\n",
       " {'file_path': 'Sirius_IDF_rainfall.dfs0',\n",
       "  'item_name': ' F=0.2',\n",
       "  'data_type': 'Rainfall Intensity'},\n",
       " {'file_path': 'Sirius_IDF_rainfall.dfs0',\n",
       "  'item_name': ' F=0.1',\n",
       "  'data_type': 'Rainfall Intensity'},\n",
       " {'file_path': 'Sirius_IDF_rainfall.dfs0',\n",
       "  'item_name': ' F=0.05',\n",
       "  'data_type': 'Rainfall Intensity'}]"
      ]
     },
     "execution_count": 3,
     "metadata": {},
     "output_type": "execute_result"
    }
   ],
   "source": [
    "# File path, item name, and data type.\n",
    "\n",
    "event_info = []\n",
    "for item in ds.items:\n",
    "    event_info.append(\n",
    "        {\n",
    "            \"file_path\": str(rainfall_timeseries.relative_to(db_path.parent)),\n",
    "            \"item_name\": item.name,\n",
    "            \"data_type\": repr(item.type),\n",
    "        }\n",
    "    )\n",
    "\n",
    "event_info"
   ]
  },
  {
   "cell_type": "markdown",
   "metadata": {},
   "source": [
    "#### Create boundary conditions for each rainfall event"
   ]
  },
  {
   "cell_type": "code",
   "execution_count": 4,
   "metadata": {},
   "outputs": [],
   "source": [
    "# Avoid conflict with MIKE IO - run in separate notebook\n",
    "import sys\n",
    "del sys.modules[\"mikeio\"]"
   ]
  },
  {
   "cell_type": "code",
   "execution_count": 5,
   "metadata": {},
   "outputs": [
    {
     "data": {
      "text/plain": [
       "Database<'Sirius.sqlite'>"
      ]
     },
     "execution_count": 5,
     "metadata": {},
     "output_type": "execute_result"
    }
   ],
   "source": [
    "# Open MIKE+ database with MIKE+Py\n",
    "import mikeplus as mp\n",
    "\n",
    "db = mp.open(db_path)\n",
    "db"
   ]
  },
  {
   "cell_type": "code",
   "execution_count": 6,
   "metadata": {},
   "outputs": [],
   "source": [
    "# Create a boundary condition for each event\n",
    "msm_BBoundary = db.tables.msm_BBoundary\n",
    "for event in event_info:\n",
    "    msm_BBoundary.insert({\n",
    "        msm_BBoundary.columns.MUID              : \"Rainfall \" + event[\"item_name\"],\n",
    "        msm_BBoundary.columns.VariationNo       : 3, # set temporal variation to timeseries\n",
    "        msm_BBoundary.columns.FlowTypeNo        : 5, # set boundary condition type to Rainfall\n",
    "        msm_BBoundary.columns.LoadTypeNo        : 1, # set load type to stormwater runoff\n",
    "        msm_BBoundary.columns.TSConnection      : event[\"file_path\"],\n",
    "        msm_BBoundary.columns.TimeseriesName    : event[\"item_name\"],\n",
    "        msm_BBoundary.columns.DataTypeName      : event[\"data_type\"],\n",
    "        msm_BBoundary.columns.ApplyBoundaryNo   : 0,\n",
    "    })"
   ]
  },
  {
   "cell_type": "code",
   "execution_count": 7,
   "metadata": {},
   "outputs": [
    {
     "data": {
      "text/html": [
       "<div>\n",
       "<style scoped>\n",
       "    .dataframe tbody tr th:only-of-type {\n",
       "        vertical-align: middle;\n",
       "    }\n",
       "\n",
       "    .dataframe tbody tr th {\n",
       "        vertical-align: top;\n",
       "    }\n",
       "\n",
       "    .dataframe thead th {\n",
       "        text-align: right;\n",
       "    }\n",
       "</style>\n",
       "<table border=\"1\" class=\"dataframe\">\n",
       "  <thead>\n",
       "    <tr style=\"text-align: right;\">\n",
       "      <th></th>\n",
       "      <th>VariationNo</th>\n",
       "      <th>FlowTypeNo</th>\n",
       "      <th>LoadTypeNo</th>\n",
       "      <th>TSConnection</th>\n",
       "      <th>TimeseriesName</th>\n",
       "      <th>DataTypeName</th>\n",
       "      <th>ApplyBoundaryNo</th>\n",
       "    </tr>\n",
       "  </thead>\n",
       "  <tbody>\n",
       "    <tr>\n",
       "      <th>Rainfall  F=20</th>\n",
       "      <td>3</td>\n",
       "      <td>5</td>\n",
       "      <td>1</td>\n",
       "      <td>C:\\course_models\\RYWM\\module4_model\\mikepluspy...</td>\n",
       "      <td>F=20</td>\n",
       "      <td>Rainfall Intensity</td>\n",
       "      <td>0</td>\n",
       "    </tr>\n",
       "    <tr>\n",
       "      <th>Rainfall  F=10</th>\n",
       "      <td>3</td>\n",
       "      <td>5</td>\n",
       "      <td>1</td>\n",
       "      <td>C:\\course_models\\RYWM\\module4_model\\mikepluspy...</td>\n",
       "      <td>F=10</td>\n",
       "      <td>Rainfall Intensity</td>\n",
       "      <td>0</td>\n",
       "    </tr>\n",
       "    <tr>\n",
       "      <th>Rainfall  F=5</th>\n",
       "      <td>3</td>\n",
       "      <td>5</td>\n",
       "      <td>1</td>\n",
       "      <td>C:\\course_models\\RYWM\\module4_model\\mikepluspy...</td>\n",
       "      <td>F=5</td>\n",
       "      <td>Rainfall Intensity</td>\n",
       "      <td>0</td>\n",
       "    </tr>\n",
       "    <tr>\n",
       "      <th>Rainfall  F=2</th>\n",
       "      <td>3</td>\n",
       "      <td>5</td>\n",
       "      <td>1</td>\n",
       "      <td>C:\\course_models\\RYWM\\module4_model\\mikepluspy...</td>\n",
       "      <td>F=2</td>\n",
       "      <td>Rainfall Intensity</td>\n",
       "      <td>0</td>\n",
       "    </tr>\n",
       "    <tr>\n",
       "      <th>Rainfall  F=1</th>\n",
       "      <td>3</td>\n",
       "      <td>5</td>\n",
       "      <td>1</td>\n",
       "      <td>C:\\course_models\\RYWM\\module4_model\\mikepluspy...</td>\n",
       "      <td>F=1</td>\n",
       "      <td>Rainfall Intensity</td>\n",
       "      <td>0</td>\n",
       "    </tr>\n",
       "    <tr>\n",
       "      <th>Rainfall  F=0.5</th>\n",
       "      <td>3</td>\n",
       "      <td>5</td>\n",
       "      <td>1</td>\n",
       "      <td>C:\\course_models\\RYWM\\module4_model\\mikepluspy...</td>\n",
       "      <td>F=0.5</td>\n",
       "      <td>Rainfall Intensity</td>\n",
       "      <td>0</td>\n",
       "    </tr>\n",
       "    <tr>\n",
       "      <th>Rainfall  F=0.2</th>\n",
       "      <td>3</td>\n",
       "      <td>5</td>\n",
       "      <td>1</td>\n",
       "      <td>C:\\course_models\\RYWM\\module4_model\\mikepluspy...</td>\n",
       "      <td>F=0.2</td>\n",
       "      <td>Rainfall Intensity</td>\n",
       "      <td>0</td>\n",
       "    </tr>\n",
       "    <tr>\n",
       "      <th>Rainfall  F=0.1</th>\n",
       "      <td>3</td>\n",
       "      <td>5</td>\n",
       "      <td>1</td>\n",
       "      <td>C:\\course_models\\RYWM\\module4_model\\mikepluspy...</td>\n",
       "      <td>F=0.1</td>\n",
       "      <td>Rainfall Intensity</td>\n",
       "      <td>0</td>\n",
       "    </tr>\n",
       "    <tr>\n",
       "      <th>Rainfall  F=0.05</th>\n",
       "      <td>3</td>\n",
       "      <td>5</td>\n",
       "      <td>1</td>\n",
       "      <td>C:\\course_models\\RYWM\\module4_model\\mikepluspy...</td>\n",
       "      <td>F=0.05</td>\n",
       "      <td>Rainfall Intensity</td>\n",
       "      <td>0</td>\n",
       "    </tr>\n",
       "  </tbody>\n",
       "</table>\n",
       "</div>"
      ],
      "text/plain": [
       "                 VariationNo FlowTypeNo LoadTypeNo  \\\n",
       "Rainfall  F=20             3          5          1   \n",
       "Rainfall  F=10             3          5          1   \n",
       "Rainfall  F=5              3          5          1   \n",
       "Rainfall  F=2              3          5          1   \n",
       "Rainfall  F=1              3          5          1   \n",
       "Rainfall  F=0.5            3          5          1   \n",
       "Rainfall  F=0.2            3          5          1   \n",
       "Rainfall  F=0.1            3          5          1   \n",
       "Rainfall  F=0.05           3          5          1   \n",
       "\n",
       "                                                       TSConnection  \\\n",
       "Rainfall  F=20    C:\\course_models\\RYWM\\module4_model\\mikepluspy...   \n",
       "Rainfall  F=10    C:\\course_models\\RYWM\\module4_model\\mikepluspy...   \n",
       "Rainfall  F=5     C:\\course_models\\RYWM\\module4_model\\mikepluspy...   \n",
       "Rainfall  F=2     C:\\course_models\\RYWM\\module4_model\\mikepluspy...   \n",
       "Rainfall  F=1     C:\\course_models\\RYWM\\module4_model\\mikepluspy...   \n",
       "Rainfall  F=0.5   C:\\course_models\\RYWM\\module4_model\\mikepluspy...   \n",
       "Rainfall  F=0.2   C:\\course_models\\RYWM\\module4_model\\mikepluspy...   \n",
       "Rainfall  F=0.1   C:\\course_models\\RYWM\\module4_model\\mikepluspy...   \n",
       "Rainfall  F=0.05  C:\\course_models\\RYWM\\module4_model\\mikepluspy...   \n",
       "\n",
       "                 TimeseriesName        DataTypeName ApplyBoundaryNo  \n",
       "Rainfall  F=20             F=20  Rainfall Intensity               0  \n",
       "Rainfall  F=10             F=10  Rainfall Intensity               0  \n",
       "Rainfall  F=5               F=5  Rainfall Intensity               0  \n",
       "Rainfall  F=2               F=2  Rainfall Intensity               0  \n",
       "Rainfall  F=1               F=1  Rainfall Intensity               0  \n",
       "Rainfall  F=0.5           F=0.5  Rainfall Intensity               0  \n",
       "Rainfall  F=0.2           F=0.2  Rainfall Intensity               0  \n",
       "Rainfall  F=0.1           F=0.1  Rainfall Intensity               0  \n",
       "Rainfall  F=0.05         F=0.05  Rainfall Intensity               0  "
      ]
     },
     "execution_count": 7,
     "metadata": {},
     "output_type": "execute_result"
    }
   ],
   "source": [
    "# Verify\n",
    "msm_BBoundary.select([\n",
    "    msm_BBoundary.columns.VariationNo,\n",
    "    msm_BBoundary.columns.FlowTypeNo,\n",
    "    msm_BBoundary.columns.LoadTypeNo,\n",
    "    msm_BBoundary.columns.TSConnection,\n",
    "    msm_BBoundary.columns.TimeseriesName,\n",
    "    msm_BBoundary.columns.DataTypeName,\n",
    "    msm_BBoundary.columns.ApplyBoundaryNo,\n",
    "]).to_pandas()"
   ]
  },
  {
   "cell_type": "markdown",
   "metadata": {},
   "source": [
    "#### Run each event"
   ]
  },
  {
   "cell_type": "code",
   "execution_count": 8,
   "metadata": {},
   "outputs": [
    {
     "data": {
      "text/html": [
       "<div>\n",
       "<style scoped>\n",
       "    .dataframe tbody tr th:only-of-type {\n",
       "        vertical-align: middle;\n",
       "    }\n",
       "\n",
       "    .dataframe tbody tr th {\n",
       "        vertical-align: top;\n",
       "    }\n",
       "\n",
       "    .dataframe thead th {\n",
       "        text-align: right;\n",
       "    }\n",
       "</style>\n",
       "<table border=\"1\" class=\"dataframe\">\n",
       "  <thead>\n",
       "    <tr style=\"text-align: right;\">\n",
       "      <th></th>\n",
       "      <th>MUID</th>\n",
       "      <th>Sqn</th>\n",
       "      <th>IncludeToBatchNo</th>\n",
       "      <th>ScenarioName</th>\n",
       "      <th>ActiveProject</th>\n",
       "      <th>Enable_Catchment</th>\n",
       "      <th>Enable_CS</th>\n",
       "      <th>Enable_River</th>\n",
       "      <th>Enable_2DOverland</th>\n",
       "      <th>Enable_RR</th>\n",
       "      <th>...</th>\n",
       "      <th>DecouplingPath</th>\n",
       "      <th>ELIntegrationNo</th>\n",
       "      <th>ELUpdateFrequency</th>\n",
       "      <th>M2DADDtMax</th>\n",
       "      <th>M2DADDtMin</th>\n",
       "      <th>M2DADMaxCFL</th>\n",
       "      <th>MJLFileName</th>\n",
       "      <th>HDOutputNo</th>\n",
       "      <th>HDFolderPath</th>\n",
       "      <th>SummaryID</th>\n",
       "    </tr>\n",
       "  </thead>\n",
       "  <tbody>\n",
       "    <tr>\n",
       "      <th>Sirius_1_DEMO</th>\n",
       "      <td>Sirius_1_DEMO</td>\n",
       "      <td>1</td>\n",
       "      <td>1</td>\n",
       "      <td>Base</td>\n",
       "      <td>1</td>\n",
       "      <td>0</td>\n",
       "      <td>1</td>\n",
       "      <td>0</td>\n",
       "      <td>0</td>\n",
       "      <td>0</td>\n",
       "      <td>...</td>\n",
       "      <td>None</td>\n",
       "      <td>3</td>\n",
       "      <td>1</td>\n",
       "      <td>10.0</td>\n",
       "      <td>0.01</td>\n",
       "      <td>0.8</td>\n",
       "      <td>None</td>\n",
       "      <td>1</td>\n",
       "      <td>None</td>\n",
       "      <td>Summary_Sirius_1</td>\n",
       "    </tr>\n",
       "  </tbody>\n",
       "</table>\n",
       "<p>1 rows × 64 columns</p>\n",
       "</div>"
      ],
      "text/plain": [
       "                        MUID Sqn IncludeToBatchNo ScenarioName ActiveProject  \\\n",
       "Sirius_1_DEMO  Sirius_1_DEMO   1                1         Base             1   \n",
       "\n",
       "              Enable_Catchment Enable_CS Enable_River Enable_2DOverland  \\\n",
       "Sirius_1_DEMO                0         1            0                 0   \n",
       "\n",
       "              Enable_RR  ... DecouplingPath ELIntegrationNo ELUpdateFrequency  \\\n",
       "Sirius_1_DEMO         0  ...           None               3                 1   \n",
       "\n",
       "              M2DADDtMax M2DADDtMin M2DADMaxCFL MJLFileName HDOutputNo  \\\n",
       "Sirius_1_DEMO       10.0       0.01         0.8        None          1   \n",
       "\n",
       "              HDFolderPath         SummaryID  \n",
       "Sirius_1_DEMO         None  Summary_Sirius_1  \n",
       "\n",
       "[1 rows x 64 columns]"
      ]
     },
     "execution_count": 8,
     "metadata": {},
     "output_type": "execute_result"
    }
   ],
   "source": [
    "# Only one simulation exists.\n",
    "msm_Project = db.tables.msm_Project\n",
    "msm_Project.select().to_pandas()"
   ]
  },
  {
   "cell_type": "code",
   "execution_count": 9,
   "metadata": {},
   "outputs": [
    {
     "data": {
      "text/html": [
       "<div>\n",
       "<style scoped>\n",
       "    .dataframe tbody tr th:only-of-type {\n",
       "        vertical-align: middle;\n",
       "    }\n",
       "\n",
       "    .dataframe tbody tr th {\n",
       "        vertical-align: top;\n",
       "    }\n",
       "\n",
       "    .dataframe thead th {\n",
       "        text-align: right;\n",
       "    }\n",
       "</style>\n",
       "<table border=\"1\" class=\"dataframe\">\n",
       "  <thead>\n",
       "    <tr style=\"text-align: right;\">\n",
       "      <th></th>\n",
       "      <th>ApplyBoundaryNo</th>\n",
       "    </tr>\n",
       "  </thead>\n",
       "  <tbody>\n",
       "    <tr>\n",
       "      <th>Rainfall  F=20</th>\n",
       "      <td>0</td>\n",
       "    </tr>\n",
       "    <tr>\n",
       "      <th>Rainfall  F=10</th>\n",
       "      <td>0</td>\n",
       "    </tr>\n",
       "    <tr>\n",
       "      <th>Rainfall  F=5</th>\n",
       "      <td>0</td>\n",
       "    </tr>\n",
       "    <tr>\n",
       "      <th>Rainfall  F=2</th>\n",
       "      <td>0</td>\n",
       "    </tr>\n",
       "    <tr>\n",
       "      <th>Rainfall  F=1</th>\n",
       "      <td>0</td>\n",
       "    </tr>\n",
       "    <tr>\n",
       "      <th>Rainfall  F=0.5</th>\n",
       "      <td>0</td>\n",
       "    </tr>\n",
       "    <tr>\n",
       "      <th>Rainfall  F=0.2</th>\n",
       "      <td>0</td>\n",
       "    </tr>\n",
       "    <tr>\n",
       "      <th>Rainfall  F=0.1</th>\n",
       "      <td>0</td>\n",
       "    </tr>\n",
       "    <tr>\n",
       "      <th>Rainfall  F=0.05</th>\n",
       "      <td>0</td>\n",
       "    </tr>\n",
       "  </tbody>\n",
       "</table>\n",
       "</div>"
      ],
      "text/plain": [
       "                  ApplyBoundaryNo\n",
       "Rainfall  F=20                  0\n",
       "Rainfall  F=10                  0\n",
       "Rainfall  F=5                   0\n",
       "Rainfall  F=2                   0\n",
       "Rainfall  F=1                   0\n",
       "Rainfall  F=0.5                 0\n",
       "Rainfall  F=0.2                 0\n",
       "Rainfall  F=0.1                 0\n",
       "Rainfall  F=0.05                0"
      ]
     },
     "execution_count": 9,
     "metadata": {},
     "output_type": "execute_result"
    }
   ],
   "source": [
    "msm_BBoundary.select([msm_BBoundary.columns.ApplyBoundaryNo]).to_pandas()"
   ]
  },
  {
   "cell_type": "code",
   "execution_count": 10,
   "metadata": {},
   "outputs": [
    {
     "data": {
      "text/plain": [
       "['Rainfall  F=20',\n",
       " 'Rainfall  F=10',\n",
       " 'Rainfall  F=5',\n",
       " 'Rainfall  F=2',\n",
       " 'Rainfall  F=1',\n",
       " 'Rainfall  F=0.5',\n",
       " 'Rainfall  F=0.2',\n",
       " 'Rainfall  F=0.1',\n",
       " 'Rainfall  F=0.05']"
      ]
     },
     "execution_count": 10,
     "metadata": {},
     "output_type": "execute_result"
    }
   ],
   "source": [
    "boundaries = msm_BBoundary.get_muids()\n",
    "boundaries"
   ]
  },
  {
   "cell_type": "code",
   "execution_count": 11,
   "metadata": {},
   "outputs": [],
   "source": [
    "# Run the simulation for each boundary\n",
    "boundary_result_files = {}\n",
    "for boundary in boundaries:\n",
    "    # apply boundary\n",
    "    msm_BBoundary.update({\"ApplyBoundaryNo\": 1}).where(\"MUID = :muid\", {\"muid\": boundary}).execute()\n",
    "\n",
    "    # update simulation name\n",
    "    simulation = msm_Project.get_muids()[0]\n",
    "    msm_Project.update({\"MUID\": boundary}).where(\"MUID = :muid\", {\"muid\": simulation}).execute()\n",
    "\n",
    "    # run simulation\n",
    "    result_files = db.run(simulation_muid=boundary)\n",
    "    boundary_result_files[boundary] = result_files\n",
    "\n",
    "    # unapply boundary\n",
    "    msm_BBoundary.update({\"ApplyBoundaryNo\": 0}).where(\"MUID = :muid\", {\"muid\": boundary}).execute()"
   ]
  },
  {
   "cell_type": "code",
   "execution_count": 12,
   "metadata": {},
   "outputs": [
    {
     "name": "stdout",
     "output_type": "stream",
     "text": [
      "Boundary: Rainfall  F=20\n",
      "Result files: ['Sirius_m1d - Result Files/Rainfall  F=20BaseDefault_Network_HD.res1d']\n",
      "\n",
      "Boundary: Rainfall  F=10\n",
      "Result files: ['Sirius_m1d - Result Files/Rainfall  F=10BaseDefault_Network_HD.res1d']\n",
      "\n",
      "Boundary: Rainfall  F=5\n",
      "Result files: ['Sirius_m1d - Result Files/Rainfall  F=5BaseDefault_Network_HD.res1d']\n",
      "\n",
      "Boundary: Rainfall  F=2\n",
      "Result files: ['Sirius_m1d - Result Files/Rainfall  F=2BaseDefault_Network_HD.res1d']\n",
      "\n",
      "Boundary: Rainfall  F=1\n",
      "Result files: ['Sirius_m1d - Result Files/Rainfall  F=1BaseDefault_Network_HD.res1d']\n",
      "\n",
      "Boundary: Rainfall  F=0.5\n",
      "Result files: ['Sirius_m1d - Result Files/Rainfall  F=0.5BaseDefault_Network_HD.res1d']\n",
      "\n",
      "Boundary: Rainfall  F=0.2\n",
      "Result files: ['Sirius_m1d - Result Files/Rainfall  F=0.2BaseDefault_Network_HD.res1d']\n",
      "\n",
      "Boundary: Rainfall  F=0.1\n",
      "Result files: ['Sirius_m1d - Result Files/Rainfall  F=0.1BaseDefault_Network_HD.res1d']\n",
      "\n",
      "Boundary: Rainfall  F=0.05\n",
      "Result files: ['Sirius_m1d - Result Files/Rainfall  F=0.05BaseDefault_Network_HD.res1d']\n",
      "\n"
     ]
    }
   ],
   "source": [
    "# Print result files relative to db path\n",
    "for boundary, result_files in boundary_result_files.items():\n",
    "    result_files = [r.relative_to(db.db_path.resolve().parent) for r in result_files]\n",
    "    result_files = [r.as_posix() for r in result_files]\n",
    "    print(f\"Boundary: {boundary}\")\n",
    "    print(f\"Result files: {result_files}\")\n",
    "    print()"
   ]
  },
  {
   "cell_type": "code",
   "execution_count": 13,
   "metadata": {},
   "outputs": [],
   "source": [
    "db.close()"
   ]
  }
 ],
 "metadata": {
  "kernelspec": {
   "display_name": ".venv",
   "language": "python",
   "name": "python3"
  },
  "language_info": {
   "codemirror_mode": {
    "name": "ipython",
    "version": 3
   },
   "file_extension": ".py",
   "mimetype": "text/x-python",
   "name": "python",
   "nbconvert_exporter": "python",
   "pygments_lexer": "ipython3",
   "version": "3.13.3"
  }
 },
 "nbformat": 4,
 "nbformat_minor": 2
}

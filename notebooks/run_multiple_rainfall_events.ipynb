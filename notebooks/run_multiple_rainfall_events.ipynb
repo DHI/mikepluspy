{
 "cells": [
  {
   "cell_type": "markdown",
   "metadata": {},
   "source": [
    "# Run multiple rainfall events\n",
    "This example shows how to run multiple rainfall events. The basic workflow is:\n",
    "1. Explore the rainfall boundary conditions of a dfs0 file using MIKE IO.\n",
    "2. Create a boundary condition for each rainfall event. Set them all as inactive by default.\n",
    "3. Run the model for each event by activating the relevant boundary condition and updating the scenario name."
   ]
  },
  {
   "cell_type": "markdown",
   "metadata": {},
   "source": [
    "#### Start with some imports we'll need"
   ]
  },
  {
   "cell_type": "code",
   "execution_count": null,
   "metadata": {},
   "outputs": [],
   "source": [
    "import clr\n",
    "import System\n",
    "import mikeio\n",
    "from mikeplus import DataTableAccess\n",
    "from mikeplus.engines import Engine1D\n",
    "from pathlib import Path\n",
    "from mikeplus.fieldTableNames.tableNames import CSTabNames\n",
    "from mikeplus.fieldTableNames.fieldNames import Fields"
   ]
  },
  {
   "cell_type": "markdown",
   "metadata": {},
   "source": [
    "#### 1. Explore rainfall boundary dfs0 file"
   ]
  },
  {
   "cell_type": "code",
   "execution_count": null,
   "metadata": {},
   "outputs": [],
   "source": [
    "# Let's start by opening the dfs0 file that contains our rainfall events.\n",
    "# This file contains nine events with varying frequencies.\n",
    "# Our goal is to run the model for every single one of these events.\n",
    "rainfall_timeseries = Path(\"../tests/testdata/Db/Sirius/Sirius_IDF_rainfall.dfs0\")\n",
    "ds = mikeio.read(rainfall_timeseries)\n",
    "ds"
   ]
  },
  {
   "cell_type": "markdown",
   "metadata": {},
   "source": [
    "#### 2. Create boundary conditions for each rainfall event"
   ]
  },
  {
   "cell_type": "code",
   "execution_count": null,
   "metadata": {},
   "outputs": [],
   "source": [
    "# First we open the MIKE+ database using MIKE+Py.\n",
    "db_path = Path(\"../tests/testdata//Db/Sirius/Sirius.sqlite\")\n",
    "dta = DataTableAccess(db_path)\n",
    "dta.open_database()\n",
    "dta.is_database_open()"
   ]
  },
  {
   "cell_type": "code",
   "execution_count": null,
   "metadata": {},
   "outputs": [],
   "source": [
    "# We'll need the dfs0 file path, the item name, and data type. \n",
    "# This is the same info required to add boundary conditions in MIKE+.\n",
    "event_info = []\n",
    "for item in ds.items:\n",
    "    event_info.append(\n",
    "        {\n",
    "                         # The dfs0 path should be relative to the .sqlite path\n",
    "            \"file_path\": str(rainfall_timeseries.relative_to(db_path.parent)), \n",
    "            \"item_name\": item.name,\n",
    "            \"data_type\": repr(item.type),\n",
    "        }\n",
    "    )\n",
    "\n",
    "# Peak at the first two event infos created\n",
    "event_info"
   ]
  },
  {
   "cell_type": "code",
   "execution_count": null,
   "metadata": {},
   "outputs": [],
   "source": [
    "# Now let's create a boundary condition for each event using this info.\n",
    "boundary_muids = []\n",
    "for event in event_info:\n",
    "    values = dict(\n",
    "        VariationNo = System.Nullable[int](3), # set temporal variation to timeseries\n",
    "        FlowTypeNo = System.Nullable[int](5), # set boundary condition type to Rainfall\n",
    "        LoadTypeNo = System.Nullable[int](1), # set load type to stormwater runoff\n",
    "        TSConnection = event['file_path'],\n",
    "        TimeseriesName = event['item_name'],\n",
    "        DataTypeName = event['data_type'],\n",
    "    )\n",
    "    muid = \"Rainfall \" + event['item_name']\n",
    "    dta.insert(CSTabNames.BBoundaryTable, muid, values)\n",
    "    dta.set_value(CSTabNames.BBoundaryTable, muid, Fields.BBoundaryFields.ApplyBoundaryNo, System.Nullable[int](0)) # Set boundary as inactive\n",
    "    boundary_muids.append(muid)\n",
    "\n",
    "# Peek at the first 3 boundary MUIDs created\n",
    "# Hint: check out if they've been created in MIKE+ by clicking the 'Clear' button in the 'Boundary conditions' table.\n",
    "boundary_muids"
   ]
  },
  {
   "cell_type": "markdown",
   "metadata": {},
   "source": [
    "#### 3. Run the model for each event"
   ]
  },
  {
   "cell_type": "code",
   "execution_count": null,
   "metadata": {},
   "outputs": [],
   "source": [
    "# Create the Engine1D object that will be used to run MIKE 1D simulations.\n",
    "engine = Engine1D(dta.datatables)"
   ]
  },
  {
   "cell_type": "code",
   "execution_count": null,
   "metadata": {},
   "outputs": [],
   "source": [
    "# Confirm which simulation is marked as the active one\n",
    "active_simulation = dta.get_muid_where(CSTabNames.ProjectTable, f\"{Fields.ProjectFields.ActiveProject} == 1\")[0]\n",
    "active_simulation"
   ]
  },
  {
   "cell_type": "code",
   "execution_count": null,
   "metadata": {},
   "outputs": [],
   "source": [
    "# Create a little helper function to rename the project simulation\n",
    "def rename_simulation(current_muid, new_muid):\n",
    "    # Rename the simulation\n",
    "    dta.set_value(CSTabNames.ProjectTable, current_muid, Fields.FieldNameBase.MUID, new_muid)\n",
    "\n",
    "    # Change simulation MUID in the msm_ProjectOutput table too (will be fixed in future to happen automatically)\n",
    "    output_muids = dta.get_muid_where(CSTabNames.ProjectOutputTable, f\"{Fields.ProjectOutputFields.SimulationID} == '{current_muid}'\")\n",
    "    for muid in output_muids:\n",
    "        dta.set_value(CSTabNames.ProjectOutputTable, muid, current_muid, new_muid)"
   ]
  },
  {
   "cell_type": "code",
   "execution_count": null,
   "metadata": {},
   "outputs": [],
   "source": [
    "# Run the simulations\n",
    "current_simulation_muid = active_simulation\n",
    "for boundary_muid in boundary_muids:\n",
    "    dta.set_value(CSTabNames.BBoundaryTable, boundary_muid, Fields.BBoundaryFields.ApplyBoundaryNo, System.Nullable[int](1)) # Set boundary as active\n",
    "    new_simulation_muid = \"Simulation \" + boundary_muid\n",
    "    rename_simulation(current_simulation_muid, new_simulation_muid)\n",
    "    engine.run(new_simulation_muid)\n",
    "    current_simulation_muid = new_simulation_muid\n",
    "    dta.set_value(CSTabNames.BBoundaryTable, boundary_muid, Fields.BBoundaryFields.ApplyBoundaryNo, System.Nullable[int](0)) # Set boundary as inactive again"
   ]
  },
  {
   "cell_type": "code",
   "execution_count": null,
   "metadata": {},
   "outputs": [],
   "source": [
    "# Check that the result files for each simulation have been created\n",
    "results = [p for p in db_path.parent.glob(f\"*Network_HD.res1d\")]\n",
    "for r in results:\n",
    "    print(r)"
   ]
  }
 ],
 "metadata": {
  "kernelspec": {
   "display_name": "mikeplus",
   "language": "python",
   "name": "python3"
  },
  "language_info": {
   "codemirror_mode": {
    "name": "ipython",
    "version": 3
   },
   "file_extension": ".py",
   "mimetype": "text/x-python",
   "name": "python",
   "nbconvert_exporter": "python",
   "pygments_lexer": "ipython3",
   "version": "3.8.10"
  }
 },
 "nbformat": 4,
 "nbformat_minor": 2
}

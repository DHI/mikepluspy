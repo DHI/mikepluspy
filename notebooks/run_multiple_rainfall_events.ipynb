{
 "cells": [
  {
   "cell_type": "markdown",
   "metadata": {},
   "source": [
    "# Run multiple rainfall events"
   ]
  },
  {
   "cell_type": "code",
   "execution_count": null,
   "metadata": {},
   "outputs": [],
   "source": [
    "from pathlib import Path\n",
    "import mikeio\n",
    "import mikeplus as mp\n",
    "\n",
    "rainfall_timeseries = Path(\"../tests/testdata/Db/Sirius/Sirius_IDF_rainfall.dfs0\")\n",
    "db_path = Path(\"../tests/testdata//Db/Sirius/Sirius.sqlite\")"
   ]
  },
  {
   "cell_type": "markdown",
   "metadata": {},
   "source": [
    "#### Explore rainfall boundary dfs0 file"
   ]
  },
  {
   "cell_type": "code",
   "execution_count": null,
   "metadata": {},
   "outputs": [],
   "source": [
    "ds = mikeio.read(rainfall_timeseries)\n",
    "ds"
   ]
  },
  {
   "cell_type": "code",
   "execution_count": null,
   "metadata": {},
   "outputs": [],
   "source": [
    "event_info = []\n",
    "for item in ds.items:\n",
    "    event_info.append(\n",
    "        {\n",
    "            \"file_path\": str(rainfall_timeseries.relative_to(db_path.parent)),\n",
    "            \"item_name\": item.name,\n",
    "            \"data_type\": repr(item.type),\n",
    "        }\n",
    "    )\n",
    "\n",
    "event_info"
   ]
  },
  {
   "cell_type": "markdown",
   "metadata": {},
   "source": [
    "#### Create boundary conditions for each rainfall event"
   ]
  },
  {
   "cell_type": "code",
   "execution_count": null,
   "metadata": {},
   "outputs": [],
   "source": [
    "db = mp.open(db_path)\n",
    "db"
   ]
  },
  {
   "cell_type": "code",
   "execution_count": null,
   "metadata": {},
   "outputs": [],
   "source": [
    "# No boundary conditions currently exist\n",
    "msm_BBoundary = db.tables.msm_BBoundary\n",
    "msm_BBoundary.get_muids()"
   ]
  },
  {
   "cell_type": "code",
   "execution_count": null,
   "metadata": {},
   "outputs": [],
   "source": [
    "# Create a boundary condition for each event\n",
    "msm_BBoundary = db.tables.msm_BBoundary\n",
    "for event in event_info:\n",
    "    msm_BBoundary.insert({\n",
    "        msm_BBoundary.columns.MUID              : \"Rainfall \" + event[\"item_name\"],\n",
    "        msm_BBoundary.columns.VariationNo       : 3, # set temporal variation to timeseries\n",
    "        msm_BBoundary.columns.FlowTypeNo        : 5, # set boundary condition type to Rainfall\n",
    "        msm_BBoundary.columns.LoadTypeNo        : 1, # set load type to stormwater runoff\n",
    "        msm_BBoundary.columns.TSConnection      : event[\"file_path\"],\n",
    "        msm_BBoundary.columns.TimeseriesName    : event[\"item_name\"],\n",
    "        msm_BBoundary.columns.DataTypeName      : event[\"data_type\"],\n",
    "        msm_BBoundary.columns.ApplyBoundaryNo   : 0,\n",
    "    })"
   ]
  },
  {
   "cell_type": "code",
   "execution_count": null,
   "metadata": {},
   "outputs": [],
   "source": [
    "# Verify\n",
    "def view_boundaries():\n",
    "    return msm_BBoundary.select([\n",
    "        msm_BBoundary.columns.VariationNo,\n",
    "        msm_BBoundary.columns.FlowTypeNo,\n",
    "        msm_BBoundary.columns.LoadTypeNo,\n",
    "        msm_BBoundary.columns.TSConnection,\n",
    "        msm_BBoundary.columns.TimeseriesName,\n",
    "        msm_BBoundary.columns.DataTypeName,\n",
    "        msm_BBoundary.columns.ApplyBoundaryNo,\n",
    "    ]).to_dataframe()\n",
    "view_boundaries()"
   ]
  },
  {
   "cell_type": "markdown",
   "metadata": {},
   "source": [
    "#### Create a scenario with a corresponding alternative for each rainfall"
   ]
  },
  {
   "cell_type": "code",
   "execution_count": null,
   "metadata": {},
   "outputs": [],
   "source": [
    "# We are in the base scenario\n",
    "db.active_scenario"
   ]
  },
  {
   "cell_type": "code",
   "execution_count": null,
   "metadata": {},
   "outputs": [],
   "source": [
    "# We'll create altenatives under the Loads and boundaries data alternative group\n",
    "db.alternative_groups[\"Loads and boundaries data\"].tables"
   ]
  },
  {
   "cell_type": "code",
   "execution_count": null,
   "metadata": {},
   "outputs": [],
   "source": [
    "# The alternative for the active scenario\n",
    "db.alternative_groups[\"Loads and boundaries data\"].active"
   ]
  },
  {
   "cell_type": "code",
   "execution_count": null,
   "metadata": {},
   "outputs": [],
   "source": [
    "for boundary in msm_BBoundary.get_muids():\n",
    "\n",
    "    # Create scenario\n",
    "    scenario = db.scenarios.create(name=boundary, parent=db.active_scenario)\n",
    "\n",
    "    # Create alternative\n",
    "    alternative = db.alternative_groups[\"Loads and boundaries data\"].create(\n",
    "        name=boundary,\n",
    "        parent=db.alternative_groups[\"Loads and boundaries data\"].active\n",
    "    )\n",
    "    \n",
    "    # Set alternative for new scenario\n",
    "    scenario.set_alternative(alternative)\n",
    "\n",
    "    # Activate the new scenario and update boundary\n",
    "    db.active_scenario = scenario\n",
    "    updated_muids = (\n",
    "        msm_BBoundary\n",
    "        .update({\n",
    "            msm_BBoundary.columns.ApplyBoundaryNo: 1\n",
    "        })\n",
    "        .where(f\"MUID = '{boundary}'\")\n",
    "        .execute() # don't forget to execute!\n",
    "    )\n",
    "    print(f\"Updated boundary MUIDs: {updated_muids}\")\n",
    "\n",
    "    # Reset back to base scenario for next iteration\n",
    "    db.active_scenario = db.scenarios.base\n"
   ]
  },
  {
   "cell_type": "code",
   "execution_count": null,
   "metadata": {},
   "outputs": [],
   "source": [
    "# The base scenario should still have no boundaries applied\n",
    "db.active_scenario = db.scenarios.base\n",
    "view_boundaries()"
   ]
  },
  {
   "cell_type": "code",
   "execution_count": null,
   "metadata": {},
   "outputs": [],
   "source": [
    "# Verify boundary is applied\n",
    "db.active_scenario = db.scenarios.by_name(\"Rainfall  F=20\")\n",
    "view_boundaries()"
   ]
  },
  {
   "cell_type": "code",
   "execution_count": null,
   "metadata": {},
   "outputs": [],
   "source": [
    "# Verify boundary is applied\n",
    "db.active_scenario = db.scenarios.by_name(\"Rainfall  F=0.05\")\n",
    "view_boundaries()"
   ]
  },
  {
   "cell_type": "markdown",
   "metadata": {},
   "source": [
    "#### Run each event"
   ]
  },
  {
   "cell_type": "code",
   "execution_count": null,
   "metadata": {},
   "outputs": [],
   "source": [
    "# One existing simulation will be used\n",
    "db.tables.msm_Project.select().to_dataframe()"
   ]
  },
  {
   "cell_type": "code",
   "execution_count": null,
   "metadata": {},
   "outputs": [],
   "source": [
    "# Get the scenarios with \"Rainfall\" in the name\n",
    "scenarios = [scenario for scenario in db.scenarios if \"Rainfall\" in scenario.name]\n",
    "scenarios"
   ]
  },
  {
   "cell_type": "code",
   "execution_count": null,
   "metadata": {},
   "outputs": [],
   "source": [
    "# Run each scenario\n",
    "results = {}\n",
    "\n",
    "for scenario in scenarios:\n",
    "    updated_muids = (\n",
    "        db.tables.msm_Project\n",
    "        .update({\n",
    "            db.tables.msm_Project.columns.ScenarioName : scenario.name\n",
    "        })\n",
    "        .where(f\"MUID = 'Sirius_1_DEMO'\")\n",
    "        .execute()\n",
    "    )\n",
    "\n",
    "    if not updated_muids:\n",
    "        raise ValueError(f\"Failed to update scenario '{scenario.name}'.\")\n",
    "\n",
    "    result_files = db.run(simulation_muid=\"Sirius_1_DEMO\")\n",
    "    result_files = [f.name for f in result_files]           # hide full path (optional)\n",
    "    results[scenario.name] = result_files\n",
    "\n",
    "results"
   ]
  },
  {
   "cell_type": "code",
   "execution_count": null,
   "metadata": {},
   "outputs": [],
   "source": [
    "db.close()"
   ]
  }
 ],
 "metadata": {
  "kernelspec": {
   "display_name": ".venv",
   "language": "python",
   "name": "python3"
  },
  "language_info": {
   "codemirror_mode": {
    "name": "ipython",
    "version": 3
   },
   "file_extension": ".py",
   "mimetype": "text/x-python",
   "name": "python",
   "nbconvert_exporter": "python",
   "pygments_lexer": "ipython3",
   "version": "3.13.3"
  }
 },
 "nbformat": 4,
 "nbformat_minor": 2
}

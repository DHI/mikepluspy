{
 "cells": [
  {
   "cell_type": "code",
   "execution_count": null,
   "metadata": {},
   "outputs": [
    {
     "name": "stdout",
     "output_type": "stream",
     "text": [
      "d:\\Work\\pythonGit\\mikepluspy\\tests\\testdata\\catchSlopeLen\\catch.sqlite\n",
      "d:\\Work\\pythonGit\\mikepluspy\\tests\\testdata\\connectionRepair\\repair.sqlite\n",
      "d:\\Work\\pythonGit\\mikepluspy\\tests\\testdata\\import\\import.sqlite\n",
      "d:\\Work\\pythonGit\\mikepluspy\\tests\\testdata\\interpolate\\inter.sqlite\n",
      "d:\\Work\\pythonGit\\mikepluspy\\tests\\testdata\\repairToolData\\RepairTestCase.sqlite\n",
      "d:\\Work\\pythonGit\\mikepluspy\\tests\\testdata\\Db\\Average DayDemand GPM\\AverageDayDemand_GPM.sqlite\n",
      "d:\\Work\\pythonGit\\mikepluspy\\tests\\testdata\\Db\\Sirius\\Sirius.sqlite\n",
      "d:\\Work\\pythonGit\\mikepluspy\\tests\\testdata\\Db\\SWMM\\Simple_Network.sqlite\n"
     ]
    }
   ],
   "source": [
    "import os\n",
    "from mikeplus import DataTableAccess\n",
    "from os import listdir\n",
    "from os.path import isfile, join\n",
    "\n",
    "mypath = \"../tests/testdata\"\n",
    "mypath = os.path.abspath(mypath)\n",
    "\n",
    "subdirs = listdir(mypath)\n",
    "i = 0\n",
    "count = len(subdirs)\n",
    "while i < count:\n",
    "    subdirs[i] = join(mypath, subdirs[i] )\n",
    "    i = i + 1\n",
    "    \n",
    "while len(subdirs) != 0:\n",
    "    file_path = subdirs[0]\n",
    "    subdirs.remove(file_path)\n",
    "    if isfile(file_path):\n",
    "        filename, file_extension = os.path.splitext(file_path)\n",
    "        if file_extension == \".sqlite\":\n",
    "            print(\"Do database upgrading for \" + file_path)\n",
    "            data_access = DataTableAccess(file_path)\n",
    "            data_access.open_database()\n",
    "            data_access.close_database()\n",
    "    else:\n",
    "        sec_sub_dirs = listdir(file_path)\n",
    "        if sec_sub_dirs is not None:\n",
    "            for item in sec_sub_dirs:\n",
    "                f = join(file_path, item)\n",
    "                subdirs.append(f)\n"
   ]
  },
  {
   "cell_type": "code",
   "execution_count": null,
   "metadata": {},
   "outputs": [],
   "source": [
    "import os\n",
    "from mikeplus import DataTableAccess\n",
    "from os import listdir\n",
    "from os.path import isfile, join\n",
    "\n",
    "mypath = \"../tests/testdata\"\n",
    "mypath = os.path.abspath(mypath)\n",
    "\n",
    "subdirs = listdir(mypath)\n",
    "print(subdirs)"
   ]
  },
  {
   "cell_type": "code",
   "execution_count": null,
   "metadata": {},
   "outputs": [],
   "source": [
    "print(subdirs[0])"
   ]
  },
  {
   "cell_type": "code",
   "execution_count": null,
   "metadata": {},
   "outputs": [],
   "source": [
    "dir = subdirs[0]\n",
    "subdirs.remove(dir)\n",
    "print(dir)"
   ]
  },
  {
   "cell_type": "code",
   "execution_count": null,
   "metadata": {},
   "outputs": [],
   "source": [
    "print(subdirs)"
   ]
  },
  {
   "cell_type": "code",
   "execution_count": null,
   "metadata": {},
   "outputs": [],
   "source": [
    "file_path = join(mypath, dir)\n",
    "print(file_path)"
   ]
  },
  {
   "cell_type": "code",
   "execution_count": null,
   "metadata": {},
   "outputs": [],
   "source": [
    "isfile(file_path)"
   ]
  }
 ],
 "metadata": {
  "kernelspec": {
   "display_name": "Python 3",
   "language": "python",
   "name": "python3"
  },
  "language_info": {
   "codemirror_mode": {
    "name": "ipython",
    "version": 3
   },
   "file_extension": ".py",
   "mimetype": "text/x-python",
   "name": "python",
   "nbconvert_exporter": "python",
   "pygments_lexer": "ipython3",
   "version": "3.8.10"
  }
 },
 "nbformat": 4,
 "nbformat_minor": 2
}

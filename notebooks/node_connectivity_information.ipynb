{
 "cells": [
  {
   "cell_type": "markdown",
   "metadata": {},
   "source": [
    "# Node connectivity information\n",
    "This example demonstrates some functionality related to node connectivity, such as:\n",
    "- Counting number of links connected to a node\n",
    "- Coutning number of enabled links connected to a node\n",
    "- Getting a list of upstream/downstream links connected to a node"
   ]
  },
  {
   "cell_type": "code",
   "execution_count": null,
   "metadata": {},
   "outputs": [],
   "source": [
    "import pandas as pd\n",
    "from mikeplus import Database"
   ]
  },
  {
   "cell_type": "code",
   "execution_count": null,
   "metadata": {},
   "outputs": [],
   "source": [
    "db = Database(\"../tests/testdata/Db/Sirius/Sirius.sqlite\")\n",
    "db"
   ]
  },
  {
   "cell_type": "code",
   "execution_count": null,
   "metadata": {},
   "outputs": [],
   "source": [
    "# Get alias to msm_Node table for convenience\n",
    "msm_node = db.tables.msm_Node\n",
    "msm_node"
   ]
  },
  {
   "cell_type": "code",
   "execution_count": null,
   "metadata": {},
   "outputs": [],
   "source": [
    "# Get all node MUIDs\n",
    "muids = msm_node.get_muids()\n",
    "muids"
   ]
  },
  {
   "cell_type": "code",
   "execution_count": null,
   "metadata": {},
   "outputs": [],
   "source": [
    "# Get number of links connected to Node_33\n",
    "msm_node.get_number_of_links(\"Node_33\")"
   ]
  },
  {
   "cell_type": "code",
   "execution_count": null,
   "metadata": {},
   "outputs": [],
   "source": [
    "# Get number of links connected to Node_33 that are enabled\n",
    "msm_node.get_number_of_links_enabled(\"Node_33\")"
   ]
  },
  {
   "cell_type": "code",
   "execution_count": null,
   "metadata": {},
   "outputs": [],
   "source": [
    "# Get link MUIDs where \"Node_33\" is the upstream/from node.\n",
    "upstream_links = msm_node.get_upstream_links(\"Node_33\")\n",
    "upstream_links"
   ]
  },
  {
   "cell_type": "code",
   "execution_count": null,
   "metadata": {},
   "outputs": [],
   "source": [
    "# Confirm that the MUIDs make sense with a query\n",
    "db.tables.msm_Link.select([\"FromNodeID\", \"ToNodeID\"]).where(\"FromNodeID = 'Node_36'\").to_pandas()"
   ]
  },
  {
   "cell_type": "code",
   "execution_count": null,
   "metadata": {},
   "outputs": [],
   "source": [
    "# Get link MUIDs where \"Node_33\" is the downstream/to node.\n",
    "downstream_links = msm_node.get_downstream_links(\"Node_33\")\n",
    "downstream_links"
   ]
  },
  {
   "cell_type": "code",
   "execution_count": null,
   "metadata": {},
   "outputs": [],
   "source": [
    "# Confirm that the MUIDs make sense with a query\n",
    "db.tables.msm_Link.select([\"FromNodeID\", \"ToNodeID\"]).where(\"ToNodeID = 'Node_33'\").to_pandas()"
   ]
  },
  {
   "cell_type": "code",
   "execution_count": null,
   "metadata": {},
   "outputs": [],
   "source": [
    "# Same as above, but for all nodes and visualized in a DataFrame\n",
    "data = {\n",
    "    muid: {\n",
    "        \"num_of_links\": msm_node.get_number_of_links(muid),\n",
    "        \"num_of_links_enabled\": msm_node.get_number_of_links_enabled(muid),\n",
    "        \"num_upstream_links\": len(msm_node.get_upstream_links(muid)),\n",
    "        \"num_downstream_links\": len(msm_node.get_downstream_links(muid)),\n",
    "    }\n",
    "    for muid in msm_node.get_muids()\n",
    "}\n",
    "df = pd.DataFrame(data).T\n",
    "df"
   ]
  },
  {
   "cell_type": "code",
   "execution_count": null,
   "metadata": {},
   "outputs": [],
   "source": [
    "# Close the database\n",
    "db.close()"
   ]
  }
 ],
 "metadata": {
  "kernelspec": {
   "display_name": ".venv",
   "language": "python",
   "name": "python3"
  },
  "language_info": {
   "codemirror_mode": {
    "name": "ipython",
    "version": 3
   },
   "file_extension": ".py",
   "mimetype": "text/x-python",
   "name": "python",
   "nbconvert_exporter": "python",
   "pygments_lexer": "ipython3",
   "version": "3.12.9"
  }
 },
 "nbformat": 4,
 "nbformat_minor": 2
}

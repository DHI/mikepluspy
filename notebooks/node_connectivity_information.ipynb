{
 "cells": [
  {
   "cell_type": "markdown",
   "metadata": {},
   "source": [
    "# Node connectivity information\n",
    "This example demonstrates some functionality related to node connectivity, such as:\n",
    "- Counting number of links connected to a node\n",
    "- Coutning number of enabled links connected to a node\n",
    "- Getting a list of upstream/downstream links connected to a node"
   ]
  },
  {
   "cell_type": "code",
   "execution_count": null,
   "metadata": {},
   "outputs": [],
   "source": [
    "# Imports\n",
    "import pandas as pd\n",
    "from mikeplus import DataTableAccess\n",
    "from mikeplus.fieldTableNames.tableNames import CSTabNames"
   ]
  },
  {
   "cell_type": "code",
   "execution_count": null,
   "metadata": {},
   "outputs": [],
   "source": [
    "# Open the database\n",
    "dta = DataTableAccess(\"../tests/testdata/Db/Sirius/Sirius.sqlite\")\n",
    "dta.open_database()\n",
    "dta"
   ]
  },
  {
   "cell_type": "code",
   "execution_count": null,
   "metadata": {},
   "outputs": [],
   "source": [
    "# Get the MsmNodeTable object\n",
    "msm_node = dta._datatables[CSTabNames.NodeTable].__implementation__\n",
    "msm_node"
   ]
  },
  {
   "cell_type": "code",
   "execution_count": null,
   "metadata": {},
   "outputs": [],
   "source": [
    "# Get all MUIDs\n",
    "muids = msm_node.GetMuids()\n",
    "list(muids)"
   ]
  },
  {
   "cell_type": "code",
   "execution_count": null,
   "metadata": {},
   "outputs": [],
   "source": [
    "# Get number of links connected to Node_36\n",
    "msm_node.GetNumberofLinks(\"Node_36\")"
   ]
  },
  {
   "cell_type": "code",
   "execution_count": null,
   "metadata": {},
   "outputs": [],
   "source": [
    "# Get number of links connected to Node_36 that are enabled\n",
    "msm_node.GetNumOfLinksEnabled(\"Node_36\")"
   ]
  },
  {
   "cell_type": "code",
   "execution_count": null,
   "metadata": {},
   "outputs": [],
   "source": [
    "# Get upstream link MUIDs connected to Node_36\n",
    "# Note: upstream links refers to links where \"Node_36\" is the upstream node. So in practice, it includes links upstream of \"Node_36\".\n",
    "upstream_links = msm_node.GetUpstreamLinks(\"Node_36\")\n",
    "list(upstream_links)"
   ]
  },
  {
   "cell_type": "code",
   "execution_count": null,
   "metadata": {},
   "outputs": [],
   "source": [
    "# Get downstream link MUIDs connected to Node_36\n",
    "# Note: downstream links refers to links where \"Node_36\" is the downstream node. So in practice, it includes links downstream of \"Node_36\".\n",
    "downstream_links = msm_node.GetDownstreamLinks(\"Node_36\")\n",
    "list(downstream_links)"
   ]
  },
  {
   "cell_type": "code",
   "execution_count": null,
   "metadata": {},
   "outputs": [],
   "source": [
    "# Same as above, but for all nodes and visualized in a DataFrame\n",
    "data = {muid: {\n",
    "    'num_of_links' : msm_node.GetNumberofLinks(muid),\n",
    "    'num_of_links_enabled' : msm_node.GetNumberofLinks(muid),\n",
    "    'num_upstream_links' : msm_node.GetUpstreamLinks(muid).Count,\n",
    "    'num_downstream_links' : msm_node.GetDownstreamLinks(muid).Count,\n",
    "} for muid in msm_node.GetMuids()}\n",
    "df = pd.DataFrame(data).T\n",
    "df"
   ]
  },
  {
   "cell_type": "code",
   "execution_count": null,
   "metadata": {},
   "outputs": [],
   "source": [
    "# Close the database\n",
    "dta.close_database()"
   ]
  }
 ],
 "metadata": {
  "kernelspec": {
   "display_name": "Python (webinar)",
   "language": "python",
   "name": "webinar"
  },
  "language_info": {
   "codemirror_mode": {
    "name": "ipython",
    "version": 3
   },
   "file_extension": ".py",
   "mimetype": "text/x-python",
   "name": "python",
   "nbconvert_exporter": "python",
   "pygments_lexer": "ipython3",
   "version": "3.12.2"
  }
 },
 "nbformat": 4,
 "nbformat_minor": 2
}
